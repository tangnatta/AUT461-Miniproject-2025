{
  "cells": [
    {
      "cell_type": "markdown",
      "metadata": {},
      "source": [
        "# Exploratory Data Analysis (EDA) for COVID-19 Datasets"
      ]
    },
    {
      "cell_type": "code",
      "execution_count": 2,
      "metadata": {},
      "outputs": [
        {
          "name": "stdout",
          "output_type": "stream",
          "text": [
            "## Comprehensive_Global_COVID-19_Dataset (First 5 rows)\n"
          ]
        },
        {
          "data": {
            "application/vnd.microsoft.datawrangler.viewer.v0+json": {
              "columns": [
                {
                  "name": "index",
                  "rawType": "int64",
                  "type": "integer"
                },
                {
                  "name": "S. No.",
                  "rawType": "float64",
                  "type": "float"
                },
                {
                  "name": "Country Name",
                  "rawType": "object",
                  "type": "string"
                },
                {
                  "name": "Cases",
                  "rawType": "float64",
                  "type": "float"
                },
                {
                  "name": "Deaths",
                  "rawType": "float64",
                  "type": "float"
                },
                {
                  "name": "Recovered",
                  "rawType": "float64",
                  "type": "float"
                }
              ],
              "ref": "d80269d0-0de6-4453-8a8d-99d09a7b806c",
              "rows": [
                [
                  "0",
                  "1.0",
                  "Peru",
                  "4524748.0",
                  "220831.0",
                  "4303917.0"
                ],
                [
                  "1",
                  "2.0",
                  "Bulgaria",
                  "1329266.0",
                  "38700.0",
                  "1290566.0"
                ],
                [
                  "2",
                  "3.0",
                  "Bosnia and Herzegovina",
                  "403638.0",
                  "16388.0",
                  "387250.0"
                ],
                [
                  "3",
                  "4.0",
                  "Hungary",
                  "2230381.0",
                  "49051.0",
                  "2181330.0"
                ],
                [
                  "4",
                  "5.0",
                  "North Macedonia",
                  "350589.0",
                  "9977.0",
                  "340612.0"
                ]
              ],
              "shape": {
                "columns": 5,
                "rows": 5
              }
            },
            "text/html": [
              "<div>\n",
              "<style scoped>\n",
              "    .dataframe tbody tr th:only-of-type {\n",
              "        vertical-align: middle;\n",
              "    }\n",
              "\n",
              "    .dataframe tbody tr th {\n",
              "        vertical-align: top;\n",
              "    }\n",
              "\n",
              "    .dataframe thead th {\n",
              "        text-align: right;\n",
              "    }\n",
              "</style>\n",
              "<table border=\"1\" class=\"dataframe\">\n",
              "  <thead>\n",
              "    <tr style=\"text-align: right;\">\n",
              "      <th></th>\n",
              "      <th>S. No.</th>\n",
              "      <th>Country Name</th>\n",
              "      <th>Cases</th>\n",
              "      <th>Deaths</th>\n",
              "      <th>Recovered</th>\n",
              "    </tr>\n",
              "  </thead>\n",
              "  <tbody>\n",
              "    <tr>\n",
              "      <th>0</th>\n",
              "      <td>1.0</td>\n",
              "      <td>Peru</td>\n",
              "      <td>4524748.0</td>\n",
              "      <td>220831.0</td>\n",
              "      <td>4303917.0</td>\n",
              "    </tr>\n",
              "    <tr>\n",
              "      <th>1</th>\n",
              "      <td>2.0</td>\n",
              "      <td>Bulgaria</td>\n",
              "      <td>1329266.0</td>\n",
              "      <td>38700.0</td>\n",
              "      <td>1290566.0</td>\n",
              "    </tr>\n",
              "    <tr>\n",
              "      <th>2</th>\n",
              "      <td>3.0</td>\n",
              "      <td>Bosnia and Herzegovina</td>\n",
              "      <td>403638.0</td>\n",
              "      <td>16388.0</td>\n",
              "      <td>387250.0</td>\n",
              "    </tr>\n",
              "    <tr>\n",
              "      <th>3</th>\n",
              "      <td>4.0</td>\n",
              "      <td>Hungary</td>\n",
              "      <td>2230381.0</td>\n",
              "      <td>49051.0</td>\n",
              "      <td>2181330.0</td>\n",
              "    </tr>\n",
              "    <tr>\n",
              "      <th>4</th>\n",
              "      <td>5.0</td>\n",
              "      <td>North Macedonia</td>\n",
              "      <td>350589.0</td>\n",
              "      <td>9977.0</td>\n",
              "      <td>340612.0</td>\n",
              "    </tr>\n",
              "  </tbody>\n",
              "</table>\n",
              "</div>"
            ],
            "text/plain": [
              "   S. No.            Country Name      Cases    Deaths  Recovered\n",
              "0     1.0                    Peru  4524748.0  220831.0  4303917.0\n",
              "1     2.0                Bulgaria  1329266.0   38700.0  1290566.0\n",
              "2     3.0  Bosnia and Herzegovina   403638.0   16388.0   387250.0\n",
              "3     4.0                 Hungary  2230381.0   49051.0  2181330.0\n",
              "4     5.0         North Macedonia   350589.0    9977.0   340612.0"
            ]
          },
          "metadata": {},
          "output_type": "display_data"
        },
        {
          "name": "stdout",
          "output_type": "stream",
          "text": [
            "\n",
            "---\n",
            "\n",
            "## Covid19-TestingRecord (First 5 rows)\n"
          ]
        },
        {
          "data": {
            "application/vnd.microsoft.datawrangler.viewer.v0+json": {
              "columns": [
                {
                  "name": "index",
                  "rawType": "int64",
                  "type": "integer"
                },
                {
                  "name": "Entity",
                  "rawType": "object",
                  "type": "string"
                },
                {
                  "name": "ISO code",
                  "rawType": "object",
                  "type": "string"
                },
                {
                  "name": "Date",
                  "rawType": "object",
                  "type": "string"
                },
                {
                  "name": "Source URL",
                  "rawType": "object",
                  "type": "string"
                },
                {
                  "name": "Source label",
                  "rawType": "object",
                  "type": "string"
                },
                {
                  "name": "Notes",
                  "rawType": "object",
                  "type": "unknown"
                },
                {
                  "name": "Daily change in cumulative total",
                  "rawType": "float64",
                  "type": "float"
                },
                {
                  "name": "Cumulative total",
                  "rawType": "float64",
                  "type": "float"
                },
                {
                  "name": "Cumulative total per thousand",
                  "rawType": "float64",
                  "type": "float"
                },
                {
                  "name": "Daily change in cumulative total per thousand",
                  "rawType": "float64",
                  "type": "float"
                },
                {
                  "name": "7-day smoothed daily change",
                  "rawType": "float64",
                  "type": "float"
                },
                {
                  "name": "7-day smoothed daily change per thousand",
                  "rawType": "float64",
                  "type": "float"
                },
                {
                  "name": "Short-term positive rate",
                  "rawType": "float64",
                  "type": "float"
                },
                {
                  "name": "Short-term tests per case",
                  "rawType": "float64",
                  "type": "float"
                }
              ],
              "ref": "a03481ce-c638-45d6-84d2-86e22a3b8fc3",
              "rows": [
                [
                  "0",
                  "Albania - tests performed",
                  "ALB",
                  "2020-02-25",
                  "https://shendetesia.gov.al/koronavirusi-mshms-asnje-rast-i-konfirmuar-ne-shqiperi/",
                  "Ministry of Health and Social Protection",
                  null,
                  "8.0",
                  "8.0",
                  "0.003",
                  "0.003",
                  null,
                  null,
                  null,
                  null
                ],
                [
                  "1",
                  "Albania - tests performed",
                  "ALB",
                  "2020-02-26",
                  "https://shendetesia.gov.al/fond-shtese-per-masat-e-mbrojtjes-personale-asnje-rast-covid-19-i-konfirmuar-ne-shqiperi/",
                  "Ministry of Health and Social Protection",
                  null,
                  "5.0",
                  "13.0",
                  "0.005",
                  "0.002",
                  null,
                  null,
                  null,
                  null
                ],
                [
                  "2",
                  "Albania - tests performed",
                  "ALB",
                  "2020-02-27",
                  "https://shendetesia.gov.al/ministria-e-shendetesise-zyrtare-nuk-ka-raste-me-koronavirus-ne-shqiperi/",
                  "Ministry of Health and Social Protection",
                  null,
                  "4.0",
                  "17.0",
                  "0.006",
                  "0.001",
                  null,
                  null,
                  null,
                  null
                ],
                [
                  "3",
                  "Albania - tests performed",
                  "ALB",
                  "2020-02-28",
                  "http://shendetesia.gov.al/manastirliu-asnje-rast-me-koronavirus-sot-shperndahen-1-2-milion-maska-shtese/",
                  "Ministry of Health and Social Protection",
                  null,
                  "1.0",
                  "18.0",
                  "0.006",
                  "0.0",
                  null,
                  null,
                  null,
                  null
                ],
                [
                  "4",
                  "Albania - tests performed",
                  "ALB",
                  "2020-02-29",
                  "https://shendetesia.gov.al/ministria-e-shendetesise-zyrtare-shqiperia-e-paprekur-nga-koronavirusi-i-ri-perfundon-testimi-i-3-rasteve-te-reja/",
                  "Ministry of Health and Social Protection",
                  null,
                  "8.0",
                  "26.0",
                  "0.009",
                  "0.003",
                  null,
                  null,
                  null,
                  null
                ]
              ],
              "shape": {
                "columns": 14,
                "rows": 5
              }
            },
            "text/html": [
              "<div>\n",
              "<style scoped>\n",
              "    .dataframe tbody tr th:only-of-type {\n",
              "        vertical-align: middle;\n",
              "    }\n",
              "\n",
              "    .dataframe tbody tr th {\n",
              "        vertical-align: top;\n",
              "    }\n",
              "\n",
              "    .dataframe thead th {\n",
              "        text-align: right;\n",
              "    }\n",
              "</style>\n",
              "<table border=\"1\" class=\"dataframe\">\n",
              "  <thead>\n",
              "    <tr style=\"text-align: right;\">\n",
              "      <th></th>\n",
              "      <th>Entity</th>\n",
              "      <th>ISO code</th>\n",
              "      <th>Date</th>\n",
              "      <th>Source URL</th>\n",
              "      <th>Source label</th>\n",
              "      <th>Notes</th>\n",
              "      <th>Daily change in cumulative total</th>\n",
              "      <th>Cumulative total</th>\n",
              "      <th>Cumulative total per thousand</th>\n",
              "      <th>Daily change in cumulative total per thousand</th>\n",
              "      <th>7-day smoothed daily change</th>\n",
              "      <th>7-day smoothed daily change per thousand</th>\n",
              "      <th>Short-term positive rate</th>\n",
              "      <th>Short-term tests per case</th>\n",
              "    </tr>\n",
              "  </thead>\n",
              "  <tbody>\n",
              "    <tr>\n",
              "      <th>0</th>\n",
              "      <td>Albania - tests performed</td>\n",
              "      <td>ALB</td>\n",
              "      <td>2020-02-25</td>\n",
              "      <td>https://shendetesia.gov.al/koronavirusi-mshms-...</td>\n",
              "      <td>Ministry of Health and Social Protection</td>\n",
              "      <td>NaN</td>\n",
              "      <td>8.0</td>\n",
              "      <td>8.0</td>\n",
              "      <td>0.003</td>\n",
              "      <td>0.003</td>\n",
              "      <td>NaN</td>\n",
              "      <td>NaN</td>\n",
              "      <td>NaN</td>\n",
              "      <td>NaN</td>\n",
              "    </tr>\n",
              "    <tr>\n",
              "      <th>1</th>\n",
              "      <td>Albania - tests performed</td>\n",
              "      <td>ALB</td>\n",
              "      <td>2020-02-26</td>\n",
              "      <td>https://shendetesia.gov.al/fond-shtese-per-mas...</td>\n",
              "      <td>Ministry of Health and Social Protection</td>\n",
              "      <td>NaN</td>\n",
              "      <td>5.0</td>\n",
              "      <td>13.0</td>\n",
              "      <td>0.005</td>\n",
              "      <td>0.002</td>\n",
              "      <td>NaN</td>\n",
              "      <td>NaN</td>\n",
              "      <td>NaN</td>\n",
              "      <td>NaN</td>\n",
              "    </tr>\n",
              "    <tr>\n",
              "      <th>2</th>\n",
              "      <td>Albania - tests performed</td>\n",
              "      <td>ALB</td>\n",
              "      <td>2020-02-27</td>\n",
              "      <td>https://shendetesia.gov.al/ministria-e-shendet...</td>\n",
              "      <td>Ministry of Health and Social Protection</td>\n",
              "      <td>NaN</td>\n",
              "      <td>4.0</td>\n",
              "      <td>17.0</td>\n",
              "      <td>0.006</td>\n",
              "      <td>0.001</td>\n",
              "      <td>NaN</td>\n",
              "      <td>NaN</td>\n",
              "      <td>NaN</td>\n",
              "      <td>NaN</td>\n",
              "    </tr>\n",
              "    <tr>\n",
              "      <th>3</th>\n",
              "      <td>Albania - tests performed</td>\n",
              "      <td>ALB</td>\n",
              "      <td>2020-02-28</td>\n",
              "      <td>http://shendetesia.gov.al/manastirliu-asnje-ra...</td>\n",
              "      <td>Ministry of Health and Social Protection</td>\n",
              "      <td>NaN</td>\n",
              "      <td>1.0</td>\n",
              "      <td>18.0</td>\n",
              "      <td>0.006</td>\n",
              "      <td>0.000</td>\n",
              "      <td>NaN</td>\n",
              "      <td>NaN</td>\n",
              "      <td>NaN</td>\n",
              "      <td>NaN</td>\n",
              "    </tr>\n",
              "    <tr>\n",
              "      <th>4</th>\n",
              "      <td>Albania - tests performed</td>\n",
              "      <td>ALB</td>\n",
              "      <td>2020-02-29</td>\n",
              "      <td>https://shendetesia.gov.al/ministria-e-shendet...</td>\n",
              "      <td>Ministry of Health and Social Protection</td>\n",
              "      <td>NaN</td>\n",
              "      <td>8.0</td>\n",
              "      <td>26.0</td>\n",
              "      <td>0.009</td>\n",
              "      <td>0.003</td>\n",
              "      <td>NaN</td>\n",
              "      <td>NaN</td>\n",
              "      <td>NaN</td>\n",
              "      <td>NaN</td>\n",
              "    </tr>\n",
              "  </tbody>\n",
              "</table>\n",
              "</div>"
            ],
            "text/plain": [
              "                      Entity ISO code        Date  \\\n",
              "0  Albania - tests performed      ALB  2020-02-25   \n",
              "1  Albania - tests performed      ALB  2020-02-26   \n",
              "2  Albania - tests performed      ALB  2020-02-27   \n",
              "3  Albania - tests performed      ALB  2020-02-28   \n",
              "4  Albania - tests performed      ALB  2020-02-29   \n",
              "\n",
              "                                          Source URL  \\\n",
              "0  https://shendetesia.gov.al/koronavirusi-mshms-...   \n",
              "1  https://shendetesia.gov.al/fond-shtese-per-mas...   \n",
              "2  https://shendetesia.gov.al/ministria-e-shendet...   \n",
              "3  http://shendetesia.gov.al/manastirliu-asnje-ra...   \n",
              "4  https://shendetesia.gov.al/ministria-e-shendet...   \n",
              "\n",
              "                               Source label Notes  \\\n",
              "0  Ministry of Health and Social Protection   NaN   \n",
              "1  Ministry of Health and Social Protection   NaN   \n",
              "2  Ministry of Health and Social Protection   NaN   \n",
              "3  Ministry of Health and Social Protection   NaN   \n",
              "4  Ministry of Health and Social Protection   NaN   \n",
              "\n",
              "   Daily change in cumulative total  Cumulative total  \\\n",
              "0                               8.0               8.0   \n",
              "1                               5.0              13.0   \n",
              "2                               4.0              17.0   \n",
              "3                               1.0              18.0   \n",
              "4                               8.0              26.0   \n",
              "\n",
              "   Cumulative total per thousand  \\\n",
              "0                          0.003   \n",
              "1                          0.005   \n",
              "2                          0.006   \n",
              "3                          0.006   \n",
              "4                          0.009   \n",
              "\n",
              "   Daily change in cumulative total per thousand  7-day smoothed daily change  \\\n",
              "0                                          0.003                          NaN   \n",
              "1                                          0.002                          NaN   \n",
              "2                                          0.001                          NaN   \n",
              "3                                          0.000                          NaN   \n",
              "4                                          0.003                          NaN   \n",
              "\n",
              "   7-day smoothed daily change per thousand  Short-term positive rate  \\\n",
              "0                                       NaN                       NaN   \n",
              "1                                       NaN                       NaN   \n",
              "2                                       NaN                       NaN   \n",
              "3                                       NaN                       NaN   \n",
              "4                                       NaN                       NaN   \n",
              "\n",
              "   Short-term tests per case  \n",
              "0                        NaN  \n",
              "1                        NaN  \n",
              "2                        NaN  \n",
              "3                        NaN  \n",
              "4                        NaN  "
            ]
          },
          "metadata": {},
          "output_type": "display_data"
        },
        {
          "name": "stdout",
          "output_type": "stream",
          "text": [
            "\n",
            "---\n",
            "\n",
            "## Covid19-VariantsFound (First 5 rows)\n"
          ]
        },
        {
          "data": {
            "application/vnd.microsoft.datawrangler.viewer.v0+json": {
              "columns": [
                {
                  "name": "index",
                  "rawType": "int64",
                  "type": "integer"
                },
                {
                  "name": "location",
                  "rawType": "object",
                  "type": "string"
                },
                {
                  "name": "date",
                  "rawType": "object",
                  "type": "string"
                },
                {
                  "name": "variant",
                  "rawType": "object",
                  "type": "string"
                },
                {
                  "name": "num_sequences",
                  "rawType": "int64",
                  "type": "integer"
                },
                {
                  "name": "perc_sequences",
                  "rawType": "float64",
                  "type": "float"
                },
                {
                  "name": "num_sequences_total",
                  "rawType": "int64",
                  "type": "integer"
                }
              ],
              "ref": "f40837c9-0180-4c5e-8a24-61a6b1e47b55",
              "rows": [
                [
                  "0",
                  "Angola",
                  "2020-07-06",
                  "Alpha",
                  "0",
                  "0.0",
                  "3"
                ],
                [
                  "1",
                  "Angola",
                  "2020-07-06",
                  "B.1.1.277",
                  "0",
                  "0.0",
                  "3"
                ],
                [
                  "2",
                  "Angola",
                  "2020-07-06",
                  "B.1.1.302",
                  "0",
                  "0.0",
                  "3"
                ],
                [
                  "3",
                  "Angola",
                  "2020-07-06",
                  "B.1.1.519",
                  "0",
                  "0.0",
                  "3"
                ],
                [
                  "4",
                  "Angola",
                  "2020-07-06",
                  "B.1.160",
                  "0",
                  "0.0",
                  "3"
                ]
              ],
              "shape": {
                "columns": 6,
                "rows": 5
              }
            },
            "text/html": [
              "<div>\n",
              "<style scoped>\n",
              "    .dataframe tbody tr th:only-of-type {\n",
              "        vertical-align: middle;\n",
              "    }\n",
              "\n",
              "    .dataframe tbody tr th {\n",
              "        vertical-align: top;\n",
              "    }\n",
              "\n",
              "    .dataframe thead th {\n",
              "        text-align: right;\n",
              "    }\n",
              "</style>\n",
              "<table border=\"1\" class=\"dataframe\">\n",
              "  <thead>\n",
              "    <tr style=\"text-align: right;\">\n",
              "      <th></th>\n",
              "      <th>location</th>\n",
              "      <th>date</th>\n",
              "      <th>variant</th>\n",
              "      <th>num_sequences</th>\n",
              "      <th>perc_sequences</th>\n",
              "      <th>num_sequences_total</th>\n",
              "    </tr>\n",
              "  </thead>\n",
              "  <tbody>\n",
              "    <tr>\n",
              "      <th>0</th>\n",
              "      <td>Angola</td>\n",
              "      <td>2020-07-06</td>\n",
              "      <td>Alpha</td>\n",
              "      <td>0</td>\n",
              "      <td>0.0</td>\n",
              "      <td>3</td>\n",
              "    </tr>\n",
              "    <tr>\n",
              "      <th>1</th>\n",
              "      <td>Angola</td>\n",
              "      <td>2020-07-06</td>\n",
              "      <td>B.1.1.277</td>\n",
              "      <td>0</td>\n",
              "      <td>0.0</td>\n",
              "      <td>3</td>\n",
              "    </tr>\n",
              "    <tr>\n",
              "      <th>2</th>\n",
              "      <td>Angola</td>\n",
              "      <td>2020-07-06</td>\n",
              "      <td>B.1.1.302</td>\n",
              "      <td>0</td>\n",
              "      <td>0.0</td>\n",
              "      <td>3</td>\n",
              "    </tr>\n",
              "    <tr>\n",
              "      <th>3</th>\n",
              "      <td>Angola</td>\n",
              "      <td>2020-07-06</td>\n",
              "      <td>B.1.1.519</td>\n",
              "      <td>0</td>\n",
              "      <td>0.0</td>\n",
              "      <td>3</td>\n",
              "    </tr>\n",
              "    <tr>\n",
              "      <th>4</th>\n",
              "      <td>Angola</td>\n",
              "      <td>2020-07-06</td>\n",
              "      <td>B.1.160</td>\n",
              "      <td>0</td>\n",
              "      <td>0.0</td>\n",
              "      <td>3</td>\n",
              "    </tr>\n",
              "  </tbody>\n",
              "</table>\n",
              "</div>"
            ],
            "text/plain": [
              "  location        date    variant  num_sequences  perc_sequences  \\\n",
              "0   Angola  2020-07-06      Alpha              0             0.0   \n",
              "1   Angola  2020-07-06  B.1.1.277              0             0.0   \n",
              "2   Angola  2020-07-06  B.1.1.302              0             0.0   \n",
              "3   Angola  2020-07-06  B.1.1.519              0             0.0   \n",
              "4   Angola  2020-07-06    B.1.160              0             0.0   \n",
              "\n",
              "   num_sequences_total  \n",
              "0                    3  \n",
              "1                    3  \n",
              "2                    3  \n",
              "3                    3  \n",
              "4                    3  "
            ]
          },
          "metadata": {},
          "output_type": "display_data"
        },
        {
          "name": "stdout",
          "output_type": "stream",
          "text": [
            "\n",
            "---\n",
            "\n",
            "## Vaccinations_ByCountry_ByManufacturer (First 5 rows)\n"
          ]
        },
        {
          "data": {
            "application/vnd.microsoft.datawrangler.viewer.v0+json": {
              "columns": [
                {
                  "name": "index",
                  "rawType": "int64",
                  "type": "integer"
                },
                {
                  "name": "location",
                  "rawType": "object",
                  "type": "string"
                },
                {
                  "name": "date",
                  "rawType": "object",
                  "type": "string"
                },
                {
                  "name": "vaccine",
                  "rawType": "object",
                  "type": "string"
                },
                {
                  "name": "total_vaccinations",
                  "rawType": "int64",
                  "type": "integer"
                }
              ],
              "ref": "8d00e55c-81a8-4486-9e02-a75da88fe8d7",
              "rows": [
                [
                  "0",
                  "Argentina",
                  "2020-12-29",
                  "Moderna",
                  "2"
                ],
                [
                  "1",
                  "Argentina",
                  "2020-12-29",
                  "Oxford/AstraZeneca",
                  "3"
                ],
                [
                  "2",
                  "Argentina",
                  "2020-12-29",
                  "Sinopharm/Beijing",
                  "1"
                ],
                [
                  "3",
                  "Argentina",
                  "2020-12-29",
                  "Sputnik V",
                  "20481"
                ],
                [
                  "4",
                  "Argentina",
                  "2020-12-30",
                  "Moderna",
                  "2"
                ]
              ],
              "shape": {
                "columns": 4,
                "rows": 5
              }
            },
            "text/html": [
              "<div>\n",
              "<style scoped>\n",
              "    .dataframe tbody tr th:only-of-type {\n",
              "        vertical-align: middle;\n",
              "    }\n",
              "\n",
              "    .dataframe tbody tr th {\n",
              "        vertical-align: top;\n",
              "    }\n",
              "\n",
              "    .dataframe thead th {\n",
              "        text-align: right;\n",
              "    }\n",
              "</style>\n",
              "<table border=\"1\" class=\"dataframe\">\n",
              "  <thead>\n",
              "    <tr style=\"text-align: right;\">\n",
              "      <th></th>\n",
              "      <th>location</th>\n",
              "      <th>date</th>\n",
              "      <th>vaccine</th>\n",
              "      <th>total_vaccinations</th>\n",
              "    </tr>\n",
              "  </thead>\n",
              "  <tbody>\n",
              "    <tr>\n",
              "      <th>0</th>\n",
              "      <td>Argentina</td>\n",
              "      <td>2020-12-29</td>\n",
              "      <td>Moderna</td>\n",
              "      <td>2</td>\n",
              "    </tr>\n",
              "    <tr>\n",
              "      <th>1</th>\n",
              "      <td>Argentina</td>\n",
              "      <td>2020-12-29</td>\n",
              "      <td>Oxford/AstraZeneca</td>\n",
              "      <td>3</td>\n",
              "    </tr>\n",
              "    <tr>\n",
              "      <th>2</th>\n",
              "      <td>Argentina</td>\n",
              "      <td>2020-12-29</td>\n",
              "      <td>Sinopharm/Beijing</td>\n",
              "      <td>1</td>\n",
              "    </tr>\n",
              "    <tr>\n",
              "      <th>3</th>\n",
              "      <td>Argentina</td>\n",
              "      <td>2020-12-29</td>\n",
              "      <td>Sputnik V</td>\n",
              "      <td>20481</td>\n",
              "    </tr>\n",
              "    <tr>\n",
              "      <th>4</th>\n",
              "      <td>Argentina</td>\n",
              "      <td>2020-12-30</td>\n",
              "      <td>Moderna</td>\n",
              "      <td>2</td>\n",
              "    </tr>\n",
              "  </tbody>\n",
              "</table>\n",
              "</div>"
            ],
            "text/plain": [
              "    location        date             vaccine  total_vaccinations\n",
              "0  Argentina  2020-12-29             Moderna                   2\n",
              "1  Argentina  2020-12-29  Oxford/AstraZeneca                   3\n",
              "2  Argentina  2020-12-29   Sinopharm/Beijing                   1\n",
              "3  Argentina  2020-12-29           Sputnik V               20481\n",
              "4  Argentina  2020-12-30             Moderna                   2"
            ]
          },
          "metadata": {},
          "output_type": "display_data"
        },
        {
          "name": "stdout",
          "output_type": "stream",
          "text": [
            "\n",
            "---\n",
            "\n",
            "## Vaccinations_ByCountry (First 5 rows)\n"
          ]
        },
        {
          "data": {
            "application/vnd.microsoft.datawrangler.viewer.v0+json": {
              "columns": [
                {
                  "name": "index",
                  "rawType": "int64",
                  "type": "integer"
                },
                {
                  "name": "country",
                  "rawType": "object",
                  "type": "string"
                },
                {
                  "name": "iso_code",
                  "rawType": "object",
                  "type": "string"
                },
                {
                  "name": "date",
                  "rawType": "object",
                  "type": "string"
                },
                {
                  "name": "total_vaccinations",
                  "rawType": "float64",
                  "type": "float"
                },
                {
                  "name": "people_vaccinated",
                  "rawType": "float64",
                  "type": "float"
                },
                {
                  "name": "people_fully_vaccinated",
                  "rawType": "float64",
                  "type": "float"
                },
                {
                  "name": "daily_vaccinations_raw",
                  "rawType": "float64",
                  "type": "float"
                },
                {
                  "name": "daily_vaccinations",
                  "rawType": "float64",
                  "type": "float"
                },
                {
                  "name": "total_vaccinations_per_hundred",
                  "rawType": "float64",
                  "type": "float"
                },
                {
                  "name": "people_vaccinated_per_hundred",
                  "rawType": "float64",
                  "type": "float"
                },
                {
                  "name": "people_fully_vaccinated_per_hundred",
                  "rawType": "float64",
                  "type": "float"
                },
                {
                  "name": "daily_vaccinations_per_million",
                  "rawType": "float64",
                  "type": "float"
                },
                {
                  "name": "vaccines",
                  "rawType": "object",
                  "type": "string"
                },
                {
                  "name": "source_name",
                  "rawType": "object",
                  "type": "string"
                },
                {
                  "name": "source_website",
                  "rawType": "object",
                  "type": "string"
                }
              ],
              "ref": "e72a08c0-b191-4e6d-9d5d-3d356cb89eec",
              "rows": [
                [
                  "0",
                  "Afghanistan",
                  "AFG",
                  "2021-02-22",
                  "0.0",
                  "0.0",
                  null,
                  null,
                  null,
                  "0.0",
                  "0.0",
                  null,
                  null,
                  "Johnson&Johnson, Oxford/AstraZeneca, Pfizer/BioNTech, Sinopharm/Beijing",
                  "World Health Organization",
                  "https://covid19.who.int/"
                ],
                [
                  "1",
                  "Afghanistan",
                  "AFG",
                  "2021-02-23",
                  null,
                  null,
                  null,
                  null,
                  "1367.0",
                  null,
                  null,
                  null,
                  "34.0",
                  "Johnson&Johnson, Oxford/AstraZeneca, Pfizer/BioNTech, Sinopharm/Beijing",
                  "World Health Organization",
                  "https://covid19.who.int/"
                ],
                [
                  "2",
                  "Afghanistan",
                  "AFG",
                  "2021-02-24",
                  null,
                  null,
                  null,
                  null,
                  "1367.0",
                  null,
                  null,
                  null,
                  "34.0",
                  "Johnson&Johnson, Oxford/AstraZeneca, Pfizer/BioNTech, Sinopharm/Beijing",
                  "World Health Organization",
                  "https://covid19.who.int/"
                ],
                [
                  "3",
                  "Afghanistan",
                  "AFG",
                  "2021-02-25",
                  null,
                  null,
                  null,
                  null,
                  "1367.0",
                  null,
                  null,
                  null,
                  "34.0",
                  "Johnson&Johnson, Oxford/AstraZeneca, Pfizer/BioNTech, Sinopharm/Beijing",
                  "World Health Organization",
                  "https://covid19.who.int/"
                ],
                [
                  "4",
                  "Afghanistan",
                  "AFG",
                  "2021-02-26",
                  null,
                  null,
                  null,
                  null,
                  "1367.0",
                  null,
                  null,
                  null,
                  "34.0",
                  "Johnson&Johnson, Oxford/AstraZeneca, Pfizer/BioNTech, Sinopharm/Beijing",
                  "World Health Organization",
                  "https://covid19.who.int/"
                ]
              ],
              "shape": {
                "columns": 15,
                "rows": 5
              }
            },
            "text/html": [
              "<div>\n",
              "<style scoped>\n",
              "    .dataframe tbody tr th:only-of-type {\n",
              "        vertical-align: middle;\n",
              "    }\n",
              "\n",
              "    .dataframe tbody tr th {\n",
              "        vertical-align: top;\n",
              "    }\n",
              "\n",
              "    .dataframe thead th {\n",
              "        text-align: right;\n",
              "    }\n",
              "</style>\n",
              "<table border=\"1\" class=\"dataframe\">\n",
              "  <thead>\n",
              "    <tr style=\"text-align: right;\">\n",
              "      <th></th>\n",
              "      <th>country</th>\n",
              "      <th>iso_code</th>\n",
              "      <th>date</th>\n",
              "      <th>total_vaccinations</th>\n",
              "      <th>people_vaccinated</th>\n",
              "      <th>people_fully_vaccinated</th>\n",
              "      <th>daily_vaccinations_raw</th>\n",
              "      <th>daily_vaccinations</th>\n",
              "      <th>total_vaccinations_per_hundred</th>\n",
              "      <th>people_vaccinated_per_hundred</th>\n",
              "      <th>people_fully_vaccinated_per_hundred</th>\n",
              "      <th>daily_vaccinations_per_million</th>\n",
              "      <th>vaccines</th>\n",
              "      <th>source_name</th>\n",
              "      <th>source_website</th>\n",
              "    </tr>\n",
              "  </thead>\n",
              "  <tbody>\n",
              "    <tr>\n",
              "      <th>0</th>\n",
              "      <td>Afghanistan</td>\n",
              "      <td>AFG</td>\n",
              "      <td>2021-02-22</td>\n",
              "      <td>0.0</td>\n",
              "      <td>0.0</td>\n",
              "      <td>NaN</td>\n",
              "      <td>NaN</td>\n",
              "      <td>NaN</td>\n",
              "      <td>0.0</td>\n",
              "      <td>0.0</td>\n",
              "      <td>NaN</td>\n",
              "      <td>NaN</td>\n",
              "      <td>Johnson&amp;Johnson, Oxford/AstraZeneca, Pfizer/Bi...</td>\n",
              "      <td>World Health Organization</td>\n",
              "      <td>https://covid19.who.int/</td>\n",
              "    </tr>\n",
              "    <tr>\n",
              "      <th>1</th>\n",
              "      <td>Afghanistan</td>\n",
              "      <td>AFG</td>\n",
              "      <td>2021-02-23</td>\n",
              "      <td>NaN</td>\n",
              "      <td>NaN</td>\n",
              "      <td>NaN</td>\n",
              "      <td>NaN</td>\n",
              "      <td>1367.0</td>\n",
              "      <td>NaN</td>\n",
              "      <td>NaN</td>\n",
              "      <td>NaN</td>\n",
              "      <td>34.0</td>\n",
              "      <td>Johnson&amp;Johnson, Oxford/AstraZeneca, Pfizer/Bi...</td>\n",
              "      <td>World Health Organization</td>\n",
              "      <td>https://covid19.who.int/</td>\n",
              "    </tr>\n",
              "    <tr>\n",
              "      <th>2</th>\n",
              "      <td>Afghanistan</td>\n",
              "      <td>AFG</td>\n",
              "      <td>2021-02-24</td>\n",
              "      <td>NaN</td>\n",
              "      <td>NaN</td>\n",
              "      <td>NaN</td>\n",
              "      <td>NaN</td>\n",
              "      <td>1367.0</td>\n",
              "      <td>NaN</td>\n",
              "      <td>NaN</td>\n",
              "      <td>NaN</td>\n",
              "      <td>34.0</td>\n",
              "      <td>Johnson&amp;Johnson, Oxford/AstraZeneca, Pfizer/Bi...</td>\n",
              "      <td>World Health Organization</td>\n",
              "      <td>https://covid19.who.int/</td>\n",
              "    </tr>\n",
              "    <tr>\n",
              "      <th>3</th>\n",
              "      <td>Afghanistan</td>\n",
              "      <td>AFG</td>\n",
              "      <td>2021-02-25</td>\n",
              "      <td>NaN</td>\n",
              "      <td>NaN</td>\n",
              "      <td>NaN</td>\n",
              "      <td>NaN</td>\n",
              "      <td>1367.0</td>\n",
              "      <td>NaN</td>\n",
              "      <td>NaN</td>\n",
              "      <td>NaN</td>\n",
              "      <td>34.0</td>\n",
              "      <td>Johnson&amp;Johnson, Oxford/AstraZeneca, Pfizer/Bi...</td>\n",
              "      <td>World Health Organization</td>\n",
              "      <td>https://covid19.who.int/</td>\n",
              "    </tr>\n",
              "    <tr>\n",
              "      <th>4</th>\n",
              "      <td>Afghanistan</td>\n",
              "      <td>AFG</td>\n",
              "      <td>2021-02-26</td>\n",
              "      <td>NaN</td>\n",
              "      <td>NaN</td>\n",
              "      <td>NaN</td>\n",
              "      <td>NaN</td>\n",
              "      <td>1367.0</td>\n",
              "      <td>NaN</td>\n",
              "      <td>NaN</td>\n",
              "      <td>NaN</td>\n",
              "      <td>34.0</td>\n",
              "      <td>Johnson&amp;Johnson, Oxford/AstraZeneca, Pfizer/Bi...</td>\n",
              "      <td>World Health Organization</td>\n",
              "      <td>https://covid19.who.int/</td>\n",
              "    </tr>\n",
              "  </tbody>\n",
              "</table>\n",
              "</div>"
            ],
            "text/plain": [
              "       country iso_code        date  total_vaccinations  people_vaccinated  \\\n",
              "0  Afghanistan      AFG  2021-02-22                 0.0                0.0   \n",
              "1  Afghanistan      AFG  2021-02-23                 NaN                NaN   \n",
              "2  Afghanistan      AFG  2021-02-24                 NaN                NaN   \n",
              "3  Afghanistan      AFG  2021-02-25                 NaN                NaN   \n",
              "4  Afghanistan      AFG  2021-02-26                 NaN                NaN   \n",
              "\n",
              "   people_fully_vaccinated  daily_vaccinations_raw  daily_vaccinations  \\\n",
              "0                      NaN                     NaN                 NaN   \n",
              "1                      NaN                     NaN              1367.0   \n",
              "2                      NaN                     NaN              1367.0   \n",
              "3                      NaN                     NaN              1367.0   \n",
              "4                      NaN                     NaN              1367.0   \n",
              "\n",
              "   total_vaccinations_per_hundred  people_vaccinated_per_hundred  \\\n",
              "0                             0.0                            0.0   \n",
              "1                             NaN                            NaN   \n",
              "2                             NaN                            NaN   \n",
              "3                             NaN                            NaN   \n",
              "4                             NaN                            NaN   \n",
              "\n",
              "   people_fully_vaccinated_per_hundred  daily_vaccinations_per_million  \\\n",
              "0                                  NaN                             NaN   \n",
              "1                                  NaN                            34.0   \n",
              "2                                  NaN                            34.0   \n",
              "3                                  NaN                            34.0   \n",
              "4                                  NaN                            34.0   \n",
              "\n",
              "                                            vaccines  \\\n",
              "0  Johnson&Johnson, Oxford/AstraZeneca, Pfizer/Bi...   \n",
              "1  Johnson&Johnson, Oxford/AstraZeneca, Pfizer/Bi...   \n",
              "2  Johnson&Johnson, Oxford/AstraZeneca, Pfizer/Bi...   \n",
              "3  Johnson&Johnson, Oxford/AstraZeneca, Pfizer/Bi...   \n",
              "4  Johnson&Johnson, Oxford/AstraZeneca, Pfizer/Bi...   \n",
              "\n",
              "                 source_name            source_website  \n",
              "0  World Health Organization  https://covid19.who.int/  \n",
              "1  World Health Organization  https://covid19.who.int/  \n",
              "2  World Health Organization  https://covid19.who.int/  \n",
              "3  World Health Organization  https://covid19.who.int/  \n",
              "4  World Health Organization  https://covid19.who.int/  "
            ]
          },
          "metadata": {},
          "output_type": "display_data"
        },
        {
          "name": "stdout",
          "output_type": "stream",
          "text": [
            "\n",
            "---\n",
            "\n"
          ]
        }
      ],
      "source": [
        "import pandas as pd\n",
        "import matplotlib.pyplot as plt\n",
        "import seaborn as sns\n",
        "\n",
        "# Load datasets\n",
        "datasets = {\n",
        "    'Comprehensive_Global_COVID-19_Dataset': pd.read_csv('data/Comprehensive_Global_COVID-19_Dataset.csv'),\n",
        "    'Covid19-TestingRecord': pd.read_csv('data/Covid19-TestingRecord.csv'),\n",
        "    'Covid19-VariantsFound': pd.read_csv('data/Covid19-VariantsFound.csv'),\n",
        "    'Vaccinations_ByCountry_ByManufacturer': pd.read_csv('data/Vaccinations_ByCountry_ByManufacturer.csv'),\n",
        "    'Vaccinations_ByCountry': pd.read_csv('data/Vaccinations_ByCountry.csv')\n",
        "}\n",
        "\n",
        "# Display first few rows of each dataset\n",
        "for name, df in datasets.items():\n",
        "    print(f'## {name} (First 5 rows)')\n",
        "    display(df.head())\n",
        "    print('\\n---\\n')"
      ]
    },
    {
      "cell_type": "code",
      "execution_count": 3,
      "metadata": {},
      "outputs": [
        {
          "data": {
            "application/vnd.microsoft.datawrangler.viewer.v0+json": {
              "columns": [
                {
                  "name": "index",
                  "rawType": "int64",
                  "type": "integer"
                },
                {
                  "name": "Country Name",
                  "rawType": "object",
                  "type": "string"
                },
                {
                  "name": "Counts",
                  "rawType": "int64",
                  "type": "integer"
                }
              ],
              "ref": "f281bf68-9c91-43e6-846d-3e503f125d81",
              "rows": [
                [
                  "0",
                  "Afghanistan",
                  "1"
                ],
                [
                  "1",
                  "Albania",
                  "1"
                ],
                [
                  "2",
                  "Algeria",
                  "1"
                ],
                [
                  "3",
                  "American Samoa",
                  "1"
                ],
                [
                  "4",
                  "Andorra",
                  "1"
                ],
                [
                  "5",
                  "Angola",
                  "1"
                ],
                [
                  "6",
                  "Anguilla",
                  "1"
                ],
                [
                  "7",
                  "Antigua and Barbuda",
                  "1"
                ],
                [
                  "8",
                  "Argentina",
                  "1"
                ],
                [
                  "9",
                  "Armenia",
                  "1"
                ],
                [
                  "10",
                  "Aruba",
                  "1"
                ],
                [
                  "11",
                  "Australia",
                  "1"
                ],
                [
                  "12",
                  "Austria",
                  "1"
                ],
                [
                  "13",
                  "Azerbaijan",
                  "1"
                ],
                [
                  "14",
                  "Bahamas",
                  "1"
                ],
                [
                  "15",
                  "Bahrain",
                  "1"
                ],
                [
                  "16",
                  "Bangladesh",
                  "1"
                ],
                [
                  "17",
                  "Barbados",
                  "1"
                ],
                [
                  "18",
                  "Belarus",
                  "1"
                ],
                [
                  "19",
                  "Belgium",
                  "1"
                ],
                [
                  "20",
                  "Belize",
                  "1"
                ],
                [
                  "21",
                  "Benin",
                  "1"
                ],
                [
                  "22",
                  "Bermuda",
                  "1"
                ],
                [
                  "23",
                  "Bhutan",
                  "1"
                ],
                [
                  "24",
                  "Bolivia",
                  "1"
                ],
                [
                  "25",
                  "Bosnia and Herzegovina",
                  "1"
                ],
                [
                  "26",
                  "Botswana",
                  "1"
                ],
                [
                  "27",
                  "Brazil",
                  "1"
                ],
                [
                  "28",
                  "British Virgin Islands",
                  "1"
                ],
                [
                  "29",
                  "Brunei",
                  "1"
                ],
                [
                  "30",
                  "Bulgaria",
                  "1"
                ],
                [
                  "31",
                  "Burkina Faso",
                  "1"
                ],
                [
                  "32",
                  "Burundi",
                  "1"
                ],
                [
                  "33",
                  "Cabo Verde",
                  "1"
                ],
                [
                  "34",
                  "Cambodia",
                  "1"
                ],
                [
                  "35",
                  "Cameroon",
                  "1"
                ],
                [
                  "36",
                  "Canada",
                  "1"
                ],
                [
                  "37",
                  "Caribbean Netherlands",
                  "1"
                ],
                [
                  "38",
                  "Cayman Islands",
                  "1"
                ],
                [
                  "39",
                  "Central African Republic",
                  "1"
                ],
                [
                  "40",
                  "Chad",
                  "1"
                ],
                [
                  "41",
                  "Chile",
                  "1"
                ],
                [
                  "42",
                  "China",
                  "1"
                ],
                [
                  "43",
                  "Collectivity of Saint Martin",
                  "1"
                ],
                [
                  "44",
                  "Colombia",
                  "1"
                ],
                [
                  "45",
                  "Comoros",
                  "1"
                ],
                [
                  "46",
                  "Cook Islands",
                  "1"
                ],
                [
                  "47",
                  "Costa Rica",
                  "1"
                ],
                [
                  "48",
                  "Croatia",
                  "1"
                ],
                [
                  "49",
                  "Cuba",
                  "1"
                ]
              ],
              "shape": {
                "columns": 2,
                "rows": 230
              }
            },
            "text/html": [
              "<div>\n",
              "<style scoped>\n",
              "    .dataframe tbody tr th:only-of-type {\n",
              "        vertical-align: middle;\n",
              "    }\n",
              "\n",
              "    .dataframe tbody tr th {\n",
              "        vertical-align: top;\n",
              "    }\n",
              "\n",
              "    .dataframe thead th {\n",
              "        text-align: right;\n",
              "    }\n",
              "</style>\n",
              "<table border=\"1\" class=\"dataframe\">\n",
              "  <thead>\n",
              "    <tr style=\"text-align: right;\">\n",
              "      <th></th>\n",
              "      <th>Country Name</th>\n",
              "      <th>Counts</th>\n",
              "    </tr>\n",
              "  </thead>\n",
              "  <tbody>\n",
              "    <tr>\n",
              "      <th>0</th>\n",
              "      <td>Afghanistan</td>\n",
              "      <td>1</td>\n",
              "    </tr>\n",
              "    <tr>\n",
              "      <th>1</th>\n",
              "      <td>Albania</td>\n",
              "      <td>1</td>\n",
              "    </tr>\n",
              "    <tr>\n",
              "      <th>2</th>\n",
              "      <td>Algeria</td>\n",
              "      <td>1</td>\n",
              "    </tr>\n",
              "    <tr>\n",
              "      <th>3</th>\n",
              "      <td>American Samoa</td>\n",
              "      <td>1</td>\n",
              "    </tr>\n",
              "    <tr>\n",
              "      <th>4</th>\n",
              "      <td>Andorra</td>\n",
              "      <td>1</td>\n",
              "    </tr>\n",
              "    <tr>\n",
              "      <th>...</th>\n",
              "      <td>...</td>\n",
              "      <td>...</td>\n",
              "    </tr>\n",
              "    <tr>\n",
              "      <th>225</th>\n",
              "      <td>Vietnam</td>\n",
              "      <td>1</td>\n",
              "    </tr>\n",
              "    <tr>\n",
              "      <th>226</th>\n",
              "      <td>Wallis and Futuna</td>\n",
              "      <td>1</td>\n",
              "    </tr>\n",
              "    <tr>\n",
              "      <th>227</th>\n",
              "      <td>Yemen</td>\n",
              "      <td>1</td>\n",
              "    </tr>\n",
              "    <tr>\n",
              "      <th>228</th>\n",
              "      <td>Zambia</td>\n",
              "      <td>1</td>\n",
              "    </tr>\n",
              "    <tr>\n",
              "      <th>229</th>\n",
              "      <td>Zimbabwe</td>\n",
              "      <td>1</td>\n",
              "    </tr>\n",
              "  </tbody>\n",
              "</table>\n",
              "<p>230 rows × 2 columns</p>\n",
              "</div>"
            ],
            "text/plain": [
              "          Country Name  Counts\n",
              "0          Afghanistan       1\n",
              "1              Albania       1\n",
              "2              Algeria       1\n",
              "3       American Samoa       1\n",
              "4              Andorra       1\n",
              "..                 ...     ...\n",
              "225            Vietnam       1\n",
              "226  Wallis and Futuna       1\n",
              "227              Yemen       1\n",
              "228             Zambia       1\n",
              "229           Zimbabwe       1\n",
              "\n",
              "[230 rows x 2 columns]"
            ]
          },
          "execution_count": 3,
          "metadata": {},
          "output_type": "execute_result"
        }
      ],
      "source": [
        "datasets['Comprehensive_Global_COVID-19_Dataset'].groupby('Country Name').size().reset_index(name='Counts').sort_values(\n",
        "    by='Counts', ascending=False)"
      ]
    },
    {
      "cell_type": "code",
      "execution_count": 4,
      "metadata": {},
      "outputs": [
        {
          "data": {
            "application/vnd.microsoft.datawrangler.viewer.v0+json": {
              "columns": [
                {
                  "name": "index",
                  "rawType": "int64",
                  "type": "integer"
                },
                {
                  "name": "country",
                  "rawType": "object",
                  "type": "string"
                },
                {
                  "name": "Counts",
                  "rawType": "int64",
                  "type": "integer"
                }
              ],
              "ref": "e904699f-53b2-4c5e-bd46-f59a98134bcb",
              "rows": [
                [
                  "60",
                  "Italy",
                  "1255"
                ],
                [
                  "102",
                  "Poland",
                  "1236"
                ],
                [
                  "22",
                  "Canada",
                  "1006"
                ],
                [
                  "81",
                  "Mexico",
                  "708"
                ],
                [
                  "3",
                  "Argentina",
                  "704"
                ],
                [
                  "124",
                  "Thailand",
                  "700"
                ],
                [
                  "123",
                  "Taiwan",
                  "694"
                ],
                [
                  "77",
                  "Malaysia",
                  "684"
                ],
                [
                  "88",
                  "Nepal",
                  "683"
                ],
                [
                  "115",
                  "Slovenia",
                  "677"
                ],
                [
                  "34",
                  "Denmark",
                  "676"
                ],
                [
                  "62",
                  "Japan",
                  "674"
                ],
                [
                  "39",
                  "Estonia",
                  "674"
                ],
                [
                  "100",
                  "Peru",
                  "673"
                ],
                [
                  "116",
                  "South Africa",
                  "672"
                ],
                [
                  "84",
                  "Morocco",
                  "672"
                ],
                [
                  "51",
                  "Hong Kong",
                  "670"
                ],
                [
                  "120",
                  "Sri Lanka",
                  "662"
                ],
                [
                  "50",
                  "Guatemala",
                  "659"
                ],
                [
                  "59",
                  "Israel",
                  "659"
                ],
                [
                  "132",
                  "United Arab Emirates",
                  "657"
                ],
                [
                  "74",
                  "Luxembourg",
                  "654"
                ],
                [
                  "112",
                  "Serbia",
                  "653"
                ],
                [
                  "53",
                  "Iceland",
                  "652"
                ],
                [
                  "69",
                  "Latvia",
                  "651"
                ],
                [
                  "42",
                  "Finland",
                  "651"
                ],
                [
                  "90",
                  "New Zealand",
                  "649"
                ],
                [
                  "29",
                  "Croatia",
                  "648"
                ],
                [
                  "10",
                  "Bangladesh",
                  "648"
                ],
                [
                  "103",
                  "Portugal",
                  "648"
                ],
                [
                  "117",
                  "South Korea",
                  "648"
                ],
                [
                  "110",
                  "Saudi Arabia",
                  "648"
                ],
                [
                  "12",
                  "Belgium",
                  "648"
                ],
                [
                  "49",
                  "Greece",
                  "647"
                ],
                [
                  "11",
                  "Belarus",
                  "647"
                ],
                [
                  "9",
                  "Bahrain",
                  "646"
                ],
                [
                  "106",
                  "Russia",
                  "646"
                ],
                [
                  "126",
                  "Togo",
                  "646"
                ],
                [
                  "52",
                  "Hungary",
                  "645"
                ],
                [
                  "111",
                  "Senegal",
                  "645"
                ],
                [
                  "134",
                  "United States",
                  "644"
                ],
                [
                  "99",
                  "Paraguay",
                  "643"
                ],
                [
                  "114",
                  "Slovakia",
                  "643"
                ],
                [
                  "4",
                  "Armenia",
                  "642"
                ],
                [
                  "97",
                  "Panama",
                  "641"
                ],
                [
                  "95",
                  "Pakistan",
                  "640"
                ],
                [
                  "105",
                  "Romania",
                  "639"
                ],
                [
                  "54",
                  "India",
                  "638"
                ],
                [
                  "16",
                  "Bolivia",
                  "635"
                ],
                [
                  "78",
                  "Maldives",
                  "634"
                ]
              ],
              "shape": {
                "columns": 2,
                "rows": 139
              }
            },
            "text/html": [
              "<div>\n",
              "<style scoped>\n",
              "    .dataframe tbody tr th:only-of-type {\n",
              "        vertical-align: middle;\n",
              "    }\n",
              "\n",
              "    .dataframe tbody tr th {\n",
              "        vertical-align: top;\n",
              "    }\n",
              "\n",
              "    .dataframe thead th {\n",
              "        text-align: right;\n",
              "    }\n",
              "</style>\n",
              "<table border=\"1\" class=\"dataframe\">\n",
              "  <thead>\n",
              "    <tr style=\"text-align: right;\">\n",
              "      <th></th>\n",
              "      <th>country</th>\n",
              "      <th>Counts</th>\n",
              "    </tr>\n",
              "  </thead>\n",
              "  <tbody>\n",
              "    <tr>\n",
              "      <th>60</th>\n",
              "      <td>Italy</td>\n",
              "      <td>1255</td>\n",
              "    </tr>\n",
              "    <tr>\n",
              "      <th>102</th>\n",
              "      <td>Poland</td>\n",
              "      <td>1236</td>\n",
              "    </tr>\n",
              "    <tr>\n",
              "      <th>22</th>\n",
              "      <td>Canada</td>\n",
              "      <td>1006</td>\n",
              "    </tr>\n",
              "    <tr>\n",
              "      <th>81</th>\n",
              "      <td>Mexico</td>\n",
              "      <td>708</td>\n",
              "    </tr>\n",
              "    <tr>\n",
              "      <th>3</th>\n",
              "      <td>Argentina</td>\n",
              "      <td>704</td>\n",
              "    </tr>\n",
              "    <tr>\n",
              "      <th>...</th>\n",
              "      <td>...</td>\n",
              "      <td>...</td>\n",
              "    </tr>\n",
              "    <tr>\n",
              "      <th>21</th>\n",
              "      <td>Cambodia</td>\n",
              "      <td>56</td>\n",
              "    </tr>\n",
              "    <tr>\n",
              "      <th>70</th>\n",
              "      <td>Lebanon</td>\n",
              "      <td>48</td>\n",
              "    </tr>\n",
              "    <tr>\n",
              "      <th>25</th>\n",
              "      <td>China</td>\n",
              "      <td>2</td>\n",
              "    </tr>\n",
              "    <tr>\n",
              "      <th>2</th>\n",
              "      <td>Antigua and Barbuda</td>\n",
              "      <td>1</td>\n",
              "    </tr>\n",
              "    <tr>\n",
              "      <th>14</th>\n",
              "      <td>Benin</td>\n",
              "      <td>1</td>\n",
              "    </tr>\n",
              "  </tbody>\n",
              "</table>\n",
              "<p>139 rows × 2 columns</p>\n",
              "</div>"
            ],
            "text/plain": [
              "                 country  Counts\n",
              "60                 Italy    1255\n",
              "102               Poland    1236\n",
              "22                Canada    1006\n",
              "81                Mexico     708\n",
              "3              Argentina     704\n",
              "..                   ...     ...\n",
              "21              Cambodia      56\n",
              "70               Lebanon      48\n",
              "25                 China       2\n",
              "2    Antigua and Barbuda       1\n",
              "14                 Benin       1\n",
              "\n",
              "[139 rows x 2 columns]"
            ]
          },
          "execution_count": 4,
          "metadata": {},
          "output_type": "execute_result"
        }
      ],
      "source": [
        "datasets['Covid19-TestingRecord']['country'] = datasets['Covid19-TestingRecord']['Entity'].str.split(' - ').str[0]\n",
        "datasets['Covid19-TestingRecord'].groupby('country').size().reset_index(name='Counts').sort_values(\n",
        "    by='Counts', ascending=False)"
      ]
    },
    {
      "cell_type": "code",
      "execution_count": 5,
      "metadata": {},
      "outputs": [
        {
          "data": {
            "application/vnd.microsoft.datawrangler.viewer.v0+json": {
              "columns": [
                {
                  "name": "index",
                  "rawType": "int64",
                  "type": "integer"
                },
                {
                  "name": "location",
                  "rawType": "object",
                  "type": "string"
                },
                {
                  "name": "Counts",
                  "rawType": "int64",
                  "type": "integer"
                }
              ],
              "ref": "64e6b0b0-7fa3-4b1c-bb7d-79bb3dc31fa2",
              "rows": [
                [
                  "7",
                  "Belgium",
                  "1080"
                ],
                [
                  "6",
                  "Bangladesh",
                  "1080"
                ],
                [
                  "34",
                  "France",
                  "1080"
                ],
                [
                  "77",
                  "Netherlands",
                  "1080"
                ],
                [
                  "69",
                  "Mexico",
                  "1080"
                ],
                [
                  "116",
                  "United States",
                  "1080"
                ],
                [
                  "115",
                  "United Kingdom",
                  "1080"
                ],
                [
                  "3",
                  "Australia",
                  "1056"
                ],
                [
                  "1",
                  "Argentina",
                  "1056"
                ],
                [
                  "41",
                  "Hong Kong",
                  "1056"
                ],
                [
                  "44",
                  "India",
                  "1056"
                ],
                [
                  "45",
                  "Indonesia",
                  "1056"
                ],
                [
                  "50",
                  "Italy",
                  "1056"
                ],
                [
                  "28",
                  "Ecuador",
                  "1056"
                ],
                [
                  "37",
                  "Germany",
                  "1056"
                ],
                [
                  "25",
                  "Denmark",
                  "1056"
                ],
                [
                  "52",
                  "Japan",
                  "1056"
                ],
                [
                  "12",
                  "Brazil",
                  "1056"
                ],
                [
                  "78",
                  "New Zealand",
                  "1056"
                ],
                [
                  "92",
                  "Russia",
                  "1056"
                ],
                [
                  "81",
                  "Norway",
                  "1056"
                ],
                [
                  "17",
                  "Canada",
                  "1056"
                ],
                [
                  "18",
                  "Chile",
                  "1056"
                ],
                [
                  "19",
                  "Colombia",
                  "1056"
                ],
                [
                  "24",
                  "Czechia",
                  "1056"
                ],
                [
                  "86",
                  "Peru",
                  "1056"
                ],
                [
                  "106",
                  "Sweden",
                  "1056"
                ],
                [
                  "107",
                  "Switzerland",
                  "1056"
                ],
                [
                  "91",
                  "Romania",
                  "1056"
                ],
                [
                  "101",
                  "South Africa",
                  "1056"
                ],
                [
                  "102",
                  "South Korea",
                  "1056"
                ],
                [
                  "103",
                  "Spain",
                  "1056"
                ],
                [
                  "97",
                  "Singapore",
                  "1056"
                ],
                [
                  "79",
                  "Nigeria",
                  "1032"
                ],
                [
                  "4",
                  "Austria",
                  "1032"
                ],
                [
                  "55",
                  "Kenya",
                  "1032"
                ],
                [
                  "48",
                  "Ireland",
                  "1032"
                ],
                [
                  "111",
                  "Turkey",
                  "1032"
                ],
                [
                  "99",
                  "Slovakia",
                  "1008"
                ],
                [
                  "83",
                  "Pakistan",
                  "1008"
                ],
                [
                  "65",
                  "Malaysia",
                  "1008"
                ],
                [
                  "49",
                  "Israel",
                  "1008"
                ],
                [
                  "20",
                  "Costa Rica",
                  "1008"
                ],
                [
                  "62",
                  "Luxembourg",
                  "1008"
                ],
                [
                  "100",
                  "Slovenia",
                  "1008"
                ],
                [
                  "38",
                  "Ghana",
                  "1008"
                ],
                [
                  "40",
                  "Guatemala",
                  "1008"
                ],
                [
                  "29",
                  "Egypt",
                  "984"
                ],
                [
                  "88",
                  "Poland",
                  "984"
                ],
                [
                  "89",
                  "Portugal",
                  "960"
                ]
              ],
              "shape": {
                "columns": 2,
                "rows": 121
              }
            },
            "text/html": [
              "<div>\n",
              "<style scoped>\n",
              "    .dataframe tbody tr th:only-of-type {\n",
              "        vertical-align: middle;\n",
              "    }\n",
              "\n",
              "    .dataframe tbody tr th {\n",
              "        vertical-align: top;\n",
              "    }\n",
              "\n",
              "    .dataframe thead th {\n",
              "        text-align: right;\n",
              "    }\n",
              "</style>\n",
              "<table border=\"1\" class=\"dataframe\">\n",
              "  <thead>\n",
              "    <tr style=\"text-align: right;\">\n",
              "      <th></th>\n",
              "      <th>location</th>\n",
              "      <th>Counts</th>\n",
              "    </tr>\n",
              "  </thead>\n",
              "  <tbody>\n",
              "    <tr>\n",
              "      <th>7</th>\n",
              "      <td>Belgium</td>\n",
              "      <td>1080</td>\n",
              "    </tr>\n",
              "    <tr>\n",
              "      <th>6</th>\n",
              "      <td>Bangladesh</td>\n",
              "      <td>1080</td>\n",
              "    </tr>\n",
              "    <tr>\n",
              "      <th>34</th>\n",
              "      <td>France</td>\n",
              "      <td>1080</td>\n",
              "    </tr>\n",
              "    <tr>\n",
              "      <th>77</th>\n",
              "      <td>Netherlands</td>\n",
              "      <td>1080</td>\n",
              "    </tr>\n",
              "    <tr>\n",
              "      <th>69</th>\n",
              "      <td>Mexico</td>\n",
              "      <td>1080</td>\n",
              "    </tr>\n",
              "    <tr>\n",
              "      <th>...</th>\n",
              "      <td>...</td>\n",
              "      <td>...</td>\n",
              "    </tr>\n",
              "    <tr>\n",
              "      <th>31</th>\n",
              "      <td>Ethiopia</td>\n",
              "      <td>384</td>\n",
              "    </tr>\n",
              "    <tr>\n",
              "      <th>71</th>\n",
              "      <td>Monaco</td>\n",
              "      <td>360</td>\n",
              "    </tr>\n",
              "    <tr>\n",
              "      <th>9</th>\n",
              "      <td>Benin</td>\n",
              "      <td>336</td>\n",
              "    </tr>\n",
              "    <tr>\n",
              "      <th>32</th>\n",
              "      <td>Fiji</td>\n",
              "      <td>336</td>\n",
              "    </tr>\n",
              "    <tr>\n",
              "      <th>13</th>\n",
              "      <td>Brunei</td>\n",
              "      <td>240</td>\n",
              "    </tr>\n",
              "  </tbody>\n",
              "</table>\n",
              "<p>121 rows × 2 columns</p>\n",
              "</div>"
            ],
            "text/plain": [
              "       location  Counts\n",
              "7       Belgium    1080\n",
              "6    Bangladesh    1080\n",
              "34       France    1080\n",
              "77  Netherlands    1080\n",
              "69       Mexico    1080\n",
              "..          ...     ...\n",
              "31     Ethiopia     384\n",
              "71       Monaco     360\n",
              "9         Benin     336\n",
              "32         Fiji     336\n",
              "13       Brunei     240\n",
              "\n",
              "[121 rows x 2 columns]"
            ]
          },
          "execution_count": 5,
          "metadata": {},
          "output_type": "execute_result"
        }
      ],
      "source": [
        "datasets['Covid19-VariantsFound'].groupby('location').size().reset_index(name='Counts').sort_values(\n",
        "    by='Counts', ascending=False)"
      ]
    },
    {
      "cell_type": "code",
      "execution_count": 6,
      "metadata": {},
      "outputs": [
        {
          "data": {
            "application/vnd.microsoft.datawrangler.viewer.v0+json": {
              "columns": [
                {
                  "name": "index",
                  "rawType": "int64",
                  "type": "integer"
                },
                {
                  "name": "location",
                  "rawType": "object",
                  "type": "string"
                },
                {
                  "name": "Counts",
                  "rawType": "int64",
                  "type": "integer"
                }
              ],
              "ref": "d9cb6ec6-926f-4239-82cc-2f984bd551e7",
              "rows": [
                [
                  "11",
                  "European Union",
                  "4122"
                ],
                [
                  "0",
                  "Argentina",
                  "2629"
                ],
                [
                  "14",
                  "Germany",
                  "2290"
                ],
                [
                  "36",
                  "South Korea",
                  "1985"
                ],
                [
                  "21",
                  "Latvia",
                  "1664"
                ],
                [
                  "7",
                  "Czechia",
                  "1661"
                ],
                [
                  "13",
                  "France",
                  "1652"
                ],
                [
                  "19",
                  "Italy",
                  "1639"
                ],
                [
                  "4",
                  "Chile",
                  "1493"
                ],
                [
                  "40",
                  "Ukraine",
                  "1491"
                ],
                [
                  "32",
                  "Romania",
                  "1490"
                ],
                [
                  "39",
                  "Switzerland",
                  "1386"
                ],
                [
                  "9",
                  "Ecuador",
                  "1278"
                ],
                [
                  "41",
                  "United States",
                  "1192"
                ],
                [
                  "42",
                  "Uruguay",
                  "1188"
                ],
                [
                  "29",
                  "Peru",
                  "1140"
                ],
                [
                  "15",
                  "Hong Kong",
                  "784"
                ],
                [
                  "31",
                  "Portugal",
                  "382"
                ],
                [
                  "16",
                  "Hungary",
                  "339"
                ],
                [
                  "1",
                  "Austria",
                  "320"
                ],
                [
                  "2",
                  "Belgium",
                  "320"
                ],
                [
                  "27",
                  "Netherlands",
                  "320"
                ],
                [
                  "17",
                  "Iceland",
                  "304"
                ],
                [
                  "30",
                  "Poland",
                  "281"
                ],
                [
                  "12",
                  "Finland",
                  "260"
                ],
                [
                  "38",
                  "Sweden",
                  "256"
                ],
                [
                  "8",
                  "Denmark",
                  "254"
                ],
                [
                  "37",
                  "Spain",
                  "252"
                ],
                [
                  "5",
                  "Croatia",
                  "250"
                ],
                [
                  "28",
                  "Norway",
                  "245"
                ],
                [
                  "18",
                  "Ireland",
                  "244"
                ],
                [
                  "24",
                  "Luxembourg",
                  "243"
                ],
                [
                  "25",
                  "Malta",
                  "238"
                ],
                [
                  "10",
                  "Estonia",
                  "237"
                ],
                [
                  "3",
                  "Bulgaria",
                  "235"
                ],
                [
                  "33",
                  "Slovakia",
                  "234"
                ],
                [
                  "23",
                  "Lithuania",
                  "232"
                ],
                [
                  "6",
                  "Cyprus",
                  "230"
                ],
                [
                  "20",
                  "Japan",
                  "225"
                ],
                [
                  "34",
                  "Slovenia",
                  "224"
                ],
                [
                  "22",
                  "Liechtenstein",
                  "189"
                ],
                [
                  "26",
                  "Nepal",
                  "175"
                ],
                [
                  "35",
                  "South Africa",
                  "50"
                ]
              ],
              "shape": {
                "columns": 2,
                "rows": 43
              }
            },
            "text/html": [
              "<div>\n",
              "<style scoped>\n",
              "    .dataframe tbody tr th:only-of-type {\n",
              "        vertical-align: middle;\n",
              "    }\n",
              "\n",
              "    .dataframe tbody tr th {\n",
              "        vertical-align: top;\n",
              "    }\n",
              "\n",
              "    .dataframe thead th {\n",
              "        text-align: right;\n",
              "    }\n",
              "</style>\n",
              "<table border=\"1\" class=\"dataframe\">\n",
              "  <thead>\n",
              "    <tr style=\"text-align: right;\">\n",
              "      <th></th>\n",
              "      <th>location</th>\n",
              "      <th>Counts</th>\n",
              "    </tr>\n",
              "  </thead>\n",
              "  <tbody>\n",
              "    <tr>\n",
              "      <th>11</th>\n",
              "      <td>European Union</td>\n",
              "      <td>4122</td>\n",
              "    </tr>\n",
              "    <tr>\n",
              "      <th>0</th>\n",
              "      <td>Argentina</td>\n",
              "      <td>2629</td>\n",
              "    </tr>\n",
              "    <tr>\n",
              "      <th>14</th>\n",
              "      <td>Germany</td>\n",
              "      <td>2290</td>\n",
              "    </tr>\n",
              "    <tr>\n",
              "      <th>36</th>\n",
              "      <td>South Korea</td>\n",
              "      <td>1985</td>\n",
              "    </tr>\n",
              "    <tr>\n",
              "      <th>21</th>\n",
              "      <td>Latvia</td>\n",
              "      <td>1664</td>\n",
              "    </tr>\n",
              "    <tr>\n",
              "      <th>7</th>\n",
              "      <td>Czechia</td>\n",
              "      <td>1661</td>\n",
              "    </tr>\n",
              "    <tr>\n",
              "      <th>13</th>\n",
              "      <td>France</td>\n",
              "      <td>1652</td>\n",
              "    </tr>\n",
              "    <tr>\n",
              "      <th>19</th>\n",
              "      <td>Italy</td>\n",
              "      <td>1639</td>\n",
              "    </tr>\n",
              "    <tr>\n",
              "      <th>4</th>\n",
              "      <td>Chile</td>\n",
              "      <td>1493</td>\n",
              "    </tr>\n",
              "    <tr>\n",
              "      <th>40</th>\n",
              "      <td>Ukraine</td>\n",
              "      <td>1491</td>\n",
              "    </tr>\n",
              "    <tr>\n",
              "      <th>32</th>\n",
              "      <td>Romania</td>\n",
              "      <td>1490</td>\n",
              "    </tr>\n",
              "    <tr>\n",
              "      <th>39</th>\n",
              "      <td>Switzerland</td>\n",
              "      <td>1386</td>\n",
              "    </tr>\n",
              "    <tr>\n",
              "      <th>9</th>\n",
              "      <td>Ecuador</td>\n",
              "      <td>1278</td>\n",
              "    </tr>\n",
              "    <tr>\n",
              "      <th>41</th>\n",
              "      <td>United States</td>\n",
              "      <td>1192</td>\n",
              "    </tr>\n",
              "    <tr>\n",
              "      <th>42</th>\n",
              "      <td>Uruguay</td>\n",
              "      <td>1188</td>\n",
              "    </tr>\n",
              "    <tr>\n",
              "      <th>29</th>\n",
              "      <td>Peru</td>\n",
              "      <td>1140</td>\n",
              "    </tr>\n",
              "    <tr>\n",
              "      <th>15</th>\n",
              "      <td>Hong Kong</td>\n",
              "      <td>784</td>\n",
              "    </tr>\n",
              "    <tr>\n",
              "      <th>31</th>\n",
              "      <td>Portugal</td>\n",
              "      <td>382</td>\n",
              "    </tr>\n",
              "    <tr>\n",
              "      <th>16</th>\n",
              "      <td>Hungary</td>\n",
              "      <td>339</td>\n",
              "    </tr>\n",
              "    <tr>\n",
              "      <th>1</th>\n",
              "      <td>Austria</td>\n",
              "      <td>320</td>\n",
              "    </tr>\n",
              "    <tr>\n",
              "      <th>2</th>\n",
              "      <td>Belgium</td>\n",
              "      <td>320</td>\n",
              "    </tr>\n",
              "    <tr>\n",
              "      <th>27</th>\n",
              "      <td>Netherlands</td>\n",
              "      <td>320</td>\n",
              "    </tr>\n",
              "    <tr>\n",
              "      <th>17</th>\n",
              "      <td>Iceland</td>\n",
              "      <td>304</td>\n",
              "    </tr>\n",
              "    <tr>\n",
              "      <th>30</th>\n",
              "      <td>Poland</td>\n",
              "      <td>281</td>\n",
              "    </tr>\n",
              "    <tr>\n",
              "      <th>12</th>\n",
              "      <td>Finland</td>\n",
              "      <td>260</td>\n",
              "    </tr>\n",
              "    <tr>\n",
              "      <th>38</th>\n",
              "      <td>Sweden</td>\n",
              "      <td>256</td>\n",
              "    </tr>\n",
              "    <tr>\n",
              "      <th>8</th>\n",
              "      <td>Denmark</td>\n",
              "      <td>254</td>\n",
              "    </tr>\n",
              "    <tr>\n",
              "      <th>37</th>\n",
              "      <td>Spain</td>\n",
              "      <td>252</td>\n",
              "    </tr>\n",
              "    <tr>\n",
              "      <th>5</th>\n",
              "      <td>Croatia</td>\n",
              "      <td>250</td>\n",
              "    </tr>\n",
              "    <tr>\n",
              "      <th>28</th>\n",
              "      <td>Norway</td>\n",
              "      <td>245</td>\n",
              "    </tr>\n",
              "    <tr>\n",
              "      <th>18</th>\n",
              "      <td>Ireland</td>\n",
              "      <td>244</td>\n",
              "    </tr>\n",
              "    <tr>\n",
              "      <th>24</th>\n",
              "      <td>Luxembourg</td>\n",
              "      <td>243</td>\n",
              "    </tr>\n",
              "    <tr>\n",
              "      <th>25</th>\n",
              "      <td>Malta</td>\n",
              "      <td>238</td>\n",
              "    </tr>\n",
              "    <tr>\n",
              "      <th>10</th>\n",
              "      <td>Estonia</td>\n",
              "      <td>237</td>\n",
              "    </tr>\n",
              "    <tr>\n",
              "      <th>3</th>\n",
              "      <td>Bulgaria</td>\n",
              "      <td>235</td>\n",
              "    </tr>\n",
              "    <tr>\n",
              "      <th>33</th>\n",
              "      <td>Slovakia</td>\n",
              "      <td>234</td>\n",
              "    </tr>\n",
              "    <tr>\n",
              "      <th>23</th>\n",
              "      <td>Lithuania</td>\n",
              "      <td>232</td>\n",
              "    </tr>\n",
              "    <tr>\n",
              "      <th>6</th>\n",
              "      <td>Cyprus</td>\n",
              "      <td>230</td>\n",
              "    </tr>\n",
              "    <tr>\n",
              "      <th>20</th>\n",
              "      <td>Japan</td>\n",
              "      <td>225</td>\n",
              "    </tr>\n",
              "    <tr>\n",
              "      <th>34</th>\n",
              "      <td>Slovenia</td>\n",
              "      <td>224</td>\n",
              "    </tr>\n",
              "    <tr>\n",
              "      <th>22</th>\n",
              "      <td>Liechtenstein</td>\n",
              "      <td>189</td>\n",
              "    </tr>\n",
              "    <tr>\n",
              "      <th>26</th>\n",
              "      <td>Nepal</td>\n",
              "      <td>175</td>\n",
              "    </tr>\n",
              "    <tr>\n",
              "      <th>35</th>\n",
              "      <td>South Africa</td>\n",
              "      <td>50</td>\n",
              "    </tr>\n",
              "  </tbody>\n",
              "</table>\n",
              "</div>"
            ],
            "text/plain": [
              "          location  Counts\n",
              "11  European Union    4122\n",
              "0        Argentina    2629\n",
              "14         Germany    2290\n",
              "36     South Korea    1985\n",
              "21          Latvia    1664\n",
              "7          Czechia    1661\n",
              "13          France    1652\n",
              "19           Italy    1639\n",
              "4            Chile    1493\n",
              "40         Ukraine    1491\n",
              "32         Romania    1490\n",
              "39     Switzerland    1386\n",
              "9          Ecuador    1278\n",
              "41   United States    1192\n",
              "42         Uruguay    1188\n",
              "29            Peru    1140\n",
              "15       Hong Kong     784\n",
              "31        Portugal     382\n",
              "16         Hungary     339\n",
              "1          Austria     320\n",
              "2          Belgium     320\n",
              "27     Netherlands     320\n",
              "17         Iceland     304\n",
              "30          Poland     281\n",
              "12         Finland     260\n",
              "38          Sweden     256\n",
              "8          Denmark     254\n",
              "37           Spain     252\n",
              "5          Croatia     250\n",
              "28          Norway     245\n",
              "18         Ireland     244\n",
              "24      Luxembourg     243\n",
              "25           Malta     238\n",
              "10         Estonia     237\n",
              "3         Bulgaria     235\n",
              "33        Slovakia     234\n",
              "23       Lithuania     232\n",
              "6           Cyprus     230\n",
              "20           Japan     225\n",
              "34        Slovenia     224\n",
              "22   Liechtenstein     189\n",
              "26           Nepal     175\n",
              "35    South Africa      50"
            ]
          },
          "execution_count": 6,
          "metadata": {},
          "output_type": "execute_result"
        }
      ],
      "source": [
        "datasets['Vaccinations_ByCountry_ByManufacturer'].groupby('location').size().reset_index(name='Counts').sort_values(\n",
        "    by='Counts', ascending=False)"
      ]
    },
    {
      "cell_type": "code",
      "execution_count": 7,
      "metadata": {},
      "outputs": [
        {
          "data": {
            "application/vnd.microsoft.datawrangler.viewer.v0+json": {
              "columns": [
                {
                  "name": "index",
                  "rawType": "int64",
                  "type": "integer"
                },
                {
                  "name": "country",
                  "rawType": "object",
                  "type": "string"
                },
                {
                  "name": "Counts",
                  "rawType": "int64",
                  "type": "integer"
                }
              ],
              "ref": "4c43ff4b-63b1-4294-9f47-ebd978d666aa",
              "rows": [
                [
                  "149",
                  "Norway",
                  "482"
                ],
                [
                  "110",
                  "Latvia",
                  "480"
                ],
                [
                  "54",
                  "Denmark",
                  "476"
                ],
                [
                  "212",
                  "United States",
                  "471"
                ],
                [
                  "163",
                  "Russia",
                  "470"
                ],
                [
                  "35",
                  "Canada",
                  "470"
                ],
                [
                  "41",
                  "China",
                  "470"
                ],
                [
                  "97",
                  "Israel",
                  "466"
                ],
                [
                  "115",
                  "Liechtenstein",
                  "463"
                ],
                [
                  "192",
                  "Switzerland",
                  "463"
                ],
                [
                  "161",
                  "Qatar",
                  "463"
                ],
                [
                  "127",
                  "Mexico",
                  "461"
                ],
                [
                  "46",
                  "Costa Rica",
                  "460"
                ],
                [
                  "63",
                  "Estonia",
                  "458"
                ],
                [
                  "75",
                  "Germany",
                  "458"
                ],
                [
                  "181",
                  "Slovenia",
                  "458"
                ],
                [
                  "116",
                  "Lithuania",
                  "458"
                ],
                [
                  "98",
                  "Italy",
                  "458"
                ],
                [
                  "52",
                  "Czechia",
                  "458"
                ],
                [
                  "78",
                  "Greece",
                  "457"
                ],
                [
                  "70",
                  "France",
                  "457"
                ],
                [
                  "159",
                  "Poland",
                  "457"
                ],
                [
                  "162",
                  "Romania",
                  "457"
                ],
                [
                  "89",
                  "Hungary",
                  "457"
                ],
                [
                  "95",
                  "Ireland",
                  "456"
                ],
                [
                  "14",
                  "Bahrain",
                  "456"
                ],
                [
                  "7",
                  "Argentina",
                  "456"
                ],
                [
                  "30",
                  "Bulgaria",
                  "456"
                ],
                [
                  "37",
                  "Cayman Islands",
                  "455"
                ],
                [
                  "48",
                  "Croatia",
                  "455"
                ],
                [
                  "90",
                  "Iceland",
                  "455"
                ],
                [
                  "117",
                  "Luxembourg",
                  "454"
                ],
                [
                  "18",
                  "Belgium",
                  "454"
                ],
                [
                  "40",
                  "Chile",
                  "454"
                ],
                [
                  "178",
                  "Singapore",
                  "454"
                ],
                [
                  "107",
                  "Kuwait",
                  "452"
                ],
                [
                  "69",
                  "Finland",
                  "451"
                ],
                [
                  "150",
                  "Oman",
                  "450"
                ],
                [
                  "180",
                  "Slovakia",
                  "449"
                ],
                [
                  "210",
                  "United Arab Emirates",
                  "449"
                ],
                [
                  "17",
                  "Belarus",
                  "448"
                ],
                [
                  "191",
                  "Sweden",
                  "447"
                ],
                [
                  "187",
                  "Spain",
                  "444"
                ],
                [
                  "173",
                  "Scotland",
                  "443"
                ],
                [
                  "148",
                  "Northern Ireland",
                  "443"
                ],
                [
                  "211",
                  "United Kingdom",
                  "443"
                ],
                [
                  "218",
                  "Wales",
                  "443"
                ],
                [
                  "61",
                  "England",
                  "443"
                ],
                [
                  "172",
                  "Saudi Arabia",
                  "442"
                ],
                [
                  "11",
                  "Austria",
                  "442"
                ]
              ],
              "shape": {
                "columns": 2,
                "rows": 223
              }
            },
            "text/html": [
              "<div>\n",
              "<style scoped>\n",
              "    .dataframe tbody tr th:only-of-type {\n",
              "        vertical-align: middle;\n",
              "    }\n",
              "\n",
              "    .dataframe tbody tr th {\n",
              "        vertical-align: top;\n",
              "    }\n",
              "\n",
              "    .dataframe thead th {\n",
              "        text-align: right;\n",
              "    }\n",
              "</style>\n",
              "<table border=\"1\" class=\"dataframe\">\n",
              "  <thead>\n",
              "    <tr style=\"text-align: right;\">\n",
              "      <th></th>\n",
              "      <th>country</th>\n",
              "      <th>Counts</th>\n",
              "    </tr>\n",
              "  </thead>\n",
              "  <tbody>\n",
              "    <tr>\n",
              "      <th>149</th>\n",
              "      <td>Norway</td>\n",
              "      <td>482</td>\n",
              "    </tr>\n",
              "    <tr>\n",
              "      <th>110</th>\n",
              "      <td>Latvia</td>\n",
              "      <td>480</td>\n",
              "    </tr>\n",
              "    <tr>\n",
              "      <th>54</th>\n",
              "      <td>Denmark</td>\n",
              "      <td>476</td>\n",
              "    </tr>\n",
              "    <tr>\n",
              "      <th>212</th>\n",
              "      <td>United States</td>\n",
              "      <td>471</td>\n",
              "    </tr>\n",
              "    <tr>\n",
              "      <th>163</th>\n",
              "      <td>Russia</td>\n",
              "      <td>470</td>\n",
              "    </tr>\n",
              "    <tr>\n",
              "      <th>...</th>\n",
              "      <td>...</td>\n",
              "      <td>...</td>\n",
              "    </tr>\n",
              "    <tr>\n",
              "      <th>24</th>\n",
              "      <td>Bonaire Sint Eustatius and Saba</td>\n",
              "      <td>146</td>\n",
              "    </tr>\n",
              "    <tr>\n",
              "      <th>200</th>\n",
              "      <td>Tokelau</td>\n",
              "      <td>114</td>\n",
              "    </tr>\n",
              "    <tr>\n",
              "      <th>165</th>\n",
              "      <td>Saint Helena</td>\n",
              "      <td>92</td>\n",
              "    </tr>\n",
              "    <tr>\n",
              "      <th>158</th>\n",
              "      <td>Pitcairn</td>\n",
              "      <td>85</td>\n",
              "    </tr>\n",
              "    <tr>\n",
              "      <th>67</th>\n",
              "      <td>Falkland Islands</td>\n",
              "      <td>67</td>\n",
              "    </tr>\n",
              "  </tbody>\n",
              "</table>\n",
              "<p>223 rows × 2 columns</p>\n",
              "</div>"
            ],
            "text/plain": [
              "                             country  Counts\n",
              "149                           Norway     482\n",
              "110                           Latvia     480\n",
              "54                           Denmark     476\n",
              "212                    United States     471\n",
              "163                           Russia     470\n",
              "..                               ...     ...\n",
              "24   Bonaire Sint Eustatius and Saba     146\n",
              "200                          Tokelau     114\n",
              "165                     Saint Helena      92\n",
              "158                         Pitcairn      85\n",
              "67                  Falkland Islands      67\n",
              "\n",
              "[223 rows x 2 columns]"
            ]
          },
          "execution_count": 7,
          "metadata": {},
          "output_type": "execute_result"
        }
      ],
      "source": [
        "datasets['Vaccinations_ByCountry'].groupby('country').size().reset_index(name='Counts').sort_values(\n",
        "    by='Counts', ascending=False)"
      ]
    },
    {
      "cell_type": "code",
      "execution_count": 20,
      "metadata": {},
      "outputs": [
        {
          "data": {
            "application/vnd.microsoft.datawrangler.viewer.v0+json": {
              "columns": [
                {
                  "name": "index",
                  "rawType": "object",
                  "type": "unknown"
                },
                {
                  "name": "Comprehensive",
                  "rawType": "float64",
                  "type": "float"
                },
                {
                  "name": "Testing",
                  "rawType": "float64",
                  "type": "float"
                },
                {
                  "name": "Variants",
                  "rawType": "float64",
                  "type": "float"
                },
                {
                  "name": "Vacc_Manufacturer",
                  "rawType": "float64",
                  "type": "float"
                },
                {
                  "name": "Vaccinations",
                  "rawType": "float64",
                  "type": "float"
                },
                {
                  "name": "Mean",
                  "rawType": "float64",
                  "type": "float"
                }
              ],
              "ref": "d8cedc5e-29ea-4cd6-92a8-936cfbe7b693",
              "rows": [
                [
                  "European Union",
                  "0.42",
                  "0.0",
                  "0.0",
                  "11.57",
                  "0.0",
                  "2.4"
                ],
                [
                  "Argentina",
                  "0.42",
                  "0.95",
                  "1.05",
                  "7.38",
                  "0.53",
                  "2.07"
                ],
                [
                  "Germany",
                  "0.42",
                  "0.85",
                  "1.05",
                  "6.43",
                  "0.53",
                  "1.86"
                ],
                [
                  "South Korea",
                  "0.42",
                  "0.88",
                  "1.05",
                  "5.57",
                  "0.46",
                  "1.68"
                ],
                [
                  "Italy",
                  "0.42",
                  "1.69",
                  "1.05",
                  "4.6",
                  "0.53",
                  "1.66"
                ],
                [
                  "France",
                  "0.42",
                  "0.77",
                  "1.08",
                  "4.64",
                  "0.53",
                  "1.49"
                ],
                [
                  "Latvia",
                  "0.42",
                  "0.88",
                  "0.79",
                  "4.67",
                  "0.55",
                  "1.46"
                ],
                [
                  "Romania",
                  "0.42",
                  "0.86",
                  "1.05",
                  "4.18",
                  "0.53",
                  "1.41"
                ],
                [
                  "Chile",
                  "0.42",
                  "0.84",
                  "1.05",
                  "4.19",
                  "0.52",
                  "1.41"
                ],
                [
                  "Czechia",
                  "0.0",
                  "0.75",
                  "1.05",
                  "4.66",
                  "0.53",
                  "1.4"
                ],
                [
                  "Ukraine",
                  "0.42",
                  "0.83",
                  "0.81",
                  "4.19",
                  "0.42",
                  "1.33"
                ],
                [
                  "Switzerland",
                  "0.42",
                  "0.76",
                  "1.05",
                  "3.89",
                  "0.54",
                  "1.33"
                ],
                [
                  "Ecuador",
                  "0.42",
                  "0.85",
                  "1.05",
                  "3.59",
                  "0.5",
                  "1.28"
                ],
                [
                  "United States",
                  "0.42",
                  "0.87",
                  "1.08",
                  "3.35",
                  "0.54",
                  "1.25"
                ],
                [
                  "Peru",
                  "0.42",
                  "0.91",
                  "1.05",
                  "3.2",
                  "0.48",
                  "1.21"
                ],
                [
                  "Uruguay",
                  "0.42",
                  "0.85",
                  "0.57",
                  "3.33",
                  "0.46",
                  "1.13"
                ],
                [
                  "Hong Kong",
                  "0.42",
                  "0.9",
                  "1.05",
                  "2.2",
                  "0.46",
                  "1.01"
                ],
                [
                  "Poland",
                  "0.42",
                  "1.67",
                  "0.98",
                  "0.79",
                  "0.53",
                  "0.88"
                ],
                [
                  "Portugal",
                  "0.42",
                  "0.88",
                  "0.96",
                  "1.07",
                  "0.51",
                  "0.77"
                ],
                [
                  "Belgium",
                  "0.42",
                  "0.88",
                  "1.08",
                  "0.9",
                  "0.52",
                  "0.76"
                ],
                [
                  "Austria",
                  "0.42",
                  "0.84",
                  "1.03",
                  "0.9",
                  "0.51",
                  "0.74"
                ],
                [
                  "Denmark",
                  "0.42",
                  "0.91",
                  "1.05",
                  "0.71",
                  "0.55",
                  "0.73"
                ],
                [
                  "Netherlands",
                  "0.42",
                  "0.75",
                  "1.08",
                  "0.9",
                  "0.5",
                  "0.73"
                ],
                [
                  "Norway",
                  "0.42",
                  "0.83",
                  "1.05",
                  "0.69",
                  "0.56",
                  "0.71"
                ],
                [
                  "Luxembourg",
                  "0.42",
                  "0.88",
                  "1.0",
                  "0.68",
                  "0.52",
                  "0.7"
                ],
                [
                  "Spain",
                  "0.42",
                  "0.81",
                  "1.05",
                  "0.71",
                  "0.51",
                  "0.7"
                ],
                [
                  "Slovenia",
                  "0.42",
                  "0.91",
                  "1.0",
                  "0.63",
                  "0.53",
                  "0.7"
                ],
                [
                  "Japan",
                  "0.42",
                  "0.91",
                  "1.05",
                  "0.63",
                  "0.47",
                  "0.7"
                ],
                [
                  "Finland",
                  "0.42",
                  "0.88",
                  "0.93",
                  "0.73",
                  "0.52",
                  "0.7"
                ],
                [
                  "Slovakia",
                  "0.42",
                  "0.87",
                  "1.0",
                  "0.66",
                  "0.52",
                  "0.69"
                ],
                [
                  "Lithuania",
                  "0.42",
                  "0.85",
                  "0.96",
                  "0.65",
                  "0.53",
                  "0.68"
                ],
                [
                  "Sweden",
                  "0.42",
                  "0.69",
                  "1.05",
                  "0.72",
                  "0.52",
                  "0.68"
                ],
                [
                  "Iceland",
                  "0.42",
                  "0.88",
                  "0.72",
                  "0.85",
                  "0.53",
                  "0.68"
                ],
                [
                  "Canada",
                  "0.42",
                  "1.36",
                  "1.05",
                  "0.0",
                  "0.54",
                  "0.67"
                ],
                [
                  "Bulgaria",
                  "0.42",
                  "0.82",
                  "0.93",
                  "0.66",
                  "0.53",
                  "0.67"
                ],
                [
                  "Croatia",
                  "0.42",
                  "0.88",
                  "0.79",
                  "0.7",
                  "0.53",
                  "0.66"
                ],
                [
                  "Estonia",
                  "0.42",
                  "0.91",
                  "0.76",
                  "0.67",
                  "0.53",
                  "0.66"
                ],
                [
                  "Hungary",
                  "0.42",
                  "0.87",
                  "0.41",
                  "0.95",
                  "0.53",
                  "0.64"
                ],
                [
                  "Ireland",
                  "0.0",
                  "0.85",
                  "1.03",
                  "0.68",
                  "0.53",
                  "0.62"
                ],
                [
                  "South Africa",
                  "0.42",
                  "0.91",
                  "1.05",
                  "0.14",
                  "0.47",
                  "0.6"
                ],
                [
                  "Mexico",
                  "0.42",
                  "0.96",
                  "1.08",
                  "0.0",
                  "0.53",
                  "0.6"
                ],
                [
                  "Liechtenstein",
                  "0.42",
                  "0.76",
                  "0.67",
                  "0.53",
                  "0.54",
                  "0.58"
                ],
                [
                  "Nepal",
                  "0.42",
                  "0.92",
                  "0.57",
                  "0.49",
                  "0.49",
                  "0.58"
                ],
                [
                  "Cyprus",
                  "0.42",
                  "0.84",
                  "0.5",
                  "0.65",
                  "0.48",
                  "0.58"
                ],
                [
                  "Russia",
                  "0.42",
                  "0.87",
                  "1.05",
                  "0.0",
                  "0.54",
                  "0.58"
                ],
                [
                  "Bangladesh",
                  "0.42",
                  "0.88",
                  "1.08",
                  "0.0",
                  "0.49",
                  "0.57"
                ],
                [
                  "Israel",
                  "0.42",
                  "0.89",
                  "1.0",
                  "0.0",
                  "0.54",
                  "0.57"
                ],
                [
                  "United Kingdom",
                  "0.42",
                  "0.83",
                  "1.08",
                  "0.0",
                  "0.51",
                  "0.57"
                ],
                [
                  "India",
                  "0.42",
                  "0.86",
                  "1.05",
                  "0.0",
                  "0.51",
                  "0.57"
                ],
                [
                  "New Zealand",
                  "0.42",
                  "0.88",
                  "1.05",
                  "0.0",
                  "0.47",
                  "0.56"
                ]
              ],
              "shape": {
                "columns": 6,
                "rows": 254
              }
            },
            "text/html": [
              "<div>\n",
              "<style scoped>\n",
              "    .dataframe tbody tr th:only-of-type {\n",
              "        vertical-align: middle;\n",
              "    }\n",
              "\n",
              "    .dataframe tbody tr th {\n",
              "        vertical-align: top;\n",
              "    }\n",
              "\n",
              "    .dataframe thead th {\n",
              "        text-align: right;\n",
              "    }\n",
              "</style>\n",
              "<table border=\"1\" class=\"dataframe\">\n",
              "  <thead>\n",
              "    <tr style=\"text-align: right;\">\n",
              "      <th></th>\n",
              "      <th>Comprehensive</th>\n",
              "      <th>Testing</th>\n",
              "      <th>Variants</th>\n",
              "      <th>Vacc_Manufacturer</th>\n",
              "      <th>Vaccinations</th>\n",
              "      <th>Mean</th>\n",
              "    </tr>\n",
              "  </thead>\n",
              "  <tbody>\n",
              "    <tr>\n",
              "      <th>European Union</th>\n",
              "      <td>0.42</td>\n",
              "      <td>0.00</td>\n",
              "      <td>0.00</td>\n",
              "      <td>11.57</td>\n",
              "      <td>0.00</td>\n",
              "      <td>2.40</td>\n",
              "    </tr>\n",
              "    <tr>\n",
              "      <th>Argentina</th>\n",
              "      <td>0.42</td>\n",
              "      <td>0.95</td>\n",
              "      <td>1.05</td>\n",
              "      <td>7.38</td>\n",
              "      <td>0.53</td>\n",
              "      <td>2.07</td>\n",
              "    </tr>\n",
              "    <tr>\n",
              "      <th>Germany</th>\n",
              "      <td>0.42</td>\n",
              "      <td>0.85</td>\n",
              "      <td>1.05</td>\n",
              "      <td>6.43</td>\n",
              "      <td>0.53</td>\n",
              "      <td>1.86</td>\n",
              "    </tr>\n",
              "    <tr>\n",
              "      <th>South Korea</th>\n",
              "      <td>0.42</td>\n",
              "      <td>0.88</td>\n",
              "      <td>1.05</td>\n",
              "      <td>5.57</td>\n",
              "      <td>0.46</td>\n",
              "      <td>1.68</td>\n",
              "    </tr>\n",
              "    <tr>\n",
              "      <th>Italy</th>\n",
              "      <td>0.42</td>\n",
              "      <td>1.69</td>\n",
              "      <td>1.05</td>\n",
              "      <td>4.60</td>\n",
              "      <td>0.53</td>\n",
              "      <td>1.66</td>\n",
              "    </tr>\n",
              "    <tr>\n",
              "      <th>...</th>\n",
              "      <td>...</td>\n",
              "      <td>...</td>\n",
              "      <td>...</td>\n",
              "      <td>...</td>\n",
              "      <td>...</td>\n",
              "      <td>...</td>\n",
              "    </tr>\n",
              "    <tr>\n",
              "      <th>Tokelau</th>\n",
              "      <td>0.00</td>\n",
              "      <td>0.00</td>\n",
              "      <td>0.00</td>\n",
              "      <td>0.00</td>\n",
              "      <td>0.13</td>\n",
              "      <td>0.03</td>\n",
              "    </tr>\n",
              "    <tr>\n",
              "      <th>Saint Helena</th>\n",
              "      <td>0.00</td>\n",
              "      <td>0.00</td>\n",
              "      <td>0.00</td>\n",
              "      <td>0.00</td>\n",
              "      <td>0.11</td>\n",
              "      <td>0.02</td>\n",
              "    </tr>\n",
              "    <tr>\n",
              "      <th>Pitcairn</th>\n",
              "      <td>0.00</td>\n",
              "      <td>0.00</td>\n",
              "      <td>0.00</td>\n",
              "      <td>0.00</td>\n",
              "      <td>0.10</td>\n",
              "      <td>0.02</td>\n",
              "    </tr>\n",
              "    <tr>\n",
              "      <th>Falkland Islands</th>\n",
              "      <td>0.00</td>\n",
              "      <td>0.00</td>\n",
              "      <td>0.00</td>\n",
              "      <td>0.00</td>\n",
              "      <td>0.08</td>\n",
              "      <td>0.02</td>\n",
              "    </tr>\n",
              "    <tr>\n",
              "      <th>NaN</th>\n",
              "      <td>0.00</td>\n",
              "      <td>0.00</td>\n",
              "      <td>0.00</td>\n",
              "      <td>0.00</td>\n",
              "      <td>0.00</td>\n",
              "      <td>0.00</td>\n",
              "    </tr>\n",
              "  </tbody>\n",
              "</table>\n",
              "<p>254 rows × 6 columns</p>\n",
              "</div>"
            ],
            "text/plain": [
              "                  Comprehensive  Testing  Variants  Vacc_Manufacturer  \\\n",
              "European Union             0.42     0.00      0.00              11.57   \n",
              "Argentina                  0.42     0.95      1.05               7.38   \n",
              "Germany                    0.42     0.85      1.05               6.43   \n",
              "South Korea                0.42     0.88      1.05               5.57   \n",
              "Italy                      0.42     1.69      1.05               4.60   \n",
              "...                         ...      ...       ...                ...   \n",
              "Tokelau                    0.00     0.00      0.00               0.00   \n",
              "Saint Helena               0.00     0.00      0.00               0.00   \n",
              "Pitcairn                   0.00     0.00      0.00               0.00   \n",
              "Falkland Islands           0.00     0.00      0.00               0.00   \n",
              "NaN                        0.00     0.00      0.00               0.00   \n",
              "\n",
              "                  Vaccinations  Mean  \n",
              "European Union            0.00  2.40  \n",
              "Argentina                 0.53  2.07  \n",
              "Germany                   0.53  1.86  \n",
              "South Korea               0.46  1.68  \n",
              "Italy                     0.53  1.66  \n",
              "...                        ...   ...  \n",
              "Tokelau                   0.13  0.03  \n",
              "Saint Helena              0.11  0.02  \n",
              "Pitcairn                  0.10  0.02  \n",
              "Falkland Islands          0.08  0.02  \n",
              "NaN                       0.00  0.00  \n",
              "\n",
              "[254 rows x 6 columns]"
            ]
          },
          "execution_count": 20,
          "metadata": {},
          "output_type": "execute_result"
        }
      ],
      "source": [
        "# Create a function to check country presence percentage in each dataset\n",
        "def check_country_presence(country):\n",
        "    total_rows = {\n",
        "        'Comprehensive': len(datasets['Comprehensive_Global_COVID-19_Dataset']),\n",
        "        'Testing': len(datasets['Covid19-TestingRecord']),\n",
        "        'Variants': len(datasets['Covid19-VariantsFound']),\n",
        "        'Vacc_Manufacturer': len(datasets['Vaccinations_ByCountry_ByManufacturer']),\n",
        "        'Vaccinations': len(datasets['Vaccinations_ByCountry'])\n",
        "    }\n",
        "    \n",
        "    presence = {\n",
        "        'Comprehensive': (datasets['Comprehensive_Global_COVID-19_Dataset']['Country Name'] == country).sum() / total_rows['Comprehensive'] * 100,\n",
        "        'Testing': (datasets['Covid19-TestingRecord']['country'] == country).sum() / total_rows['Testing'] * 100,\n",
        "        'Variants': (datasets['Covid19-VariantsFound']['location'] == country).sum() / total_rows['Variants'] * 100,\n",
        "        'Vacc_Manufacturer': (datasets['Vaccinations_ByCountry_ByManufacturer']['location'] == country).sum() / total_rows['Vacc_Manufacturer'] * 100,\n",
        "        'Vaccinations': (datasets['Vaccinations_ByCountry']['country'] == country).sum() / total_rows['Vaccinations'] * 100\n",
        "    }\n",
        "    \n",
        "    presence.update({'Mean': sum(presence.values())/len(presence.values())})\n",
        "    return presence\n",
        "\n",
        "# Create presence data for each country\n",
        "# Get all unique country names from each dataset\n",
        "all_countries = set()\n",
        "all_countries.update(datasets['Comprehensive_Global_COVID-19_Dataset']['Country Name'].unique())\n",
        "all_countries.update(datasets['Covid19-TestingRecord']['country'].unique())\n",
        "all_countries.update(datasets['Covid19-VariantsFound']['location'].unique())\n",
        "all_countries.update(datasets['Vaccinations_ByCountry_ByManufacturer']['location'].unique())\n",
        "all_countries.update(datasets['Vaccinations_ByCountry']['country'].unique())\n",
        "\n",
        "# Calculate presence data for each country\n",
        "presence_data = {country: check_country_presence(country) for country in all_countries}\n",
        "\n",
        "# Convert to DataFrame\n",
        "presence_df = pd.DataFrame.from_dict(presence_data, orient='index')\n",
        "\n",
        "# Sort by mean presence\n",
        "presence_df = presence_df.sort_values('Mean', ascending=False)\n",
        "\n",
        "# Round all values to 2 decimal places\n",
        "presence_df = presence_df.round(2)\n",
        "\n",
        "# Display the results\n",
        "presence_df"
      ]
    },
    {
      "cell_type": "code",
      "execution_count": 21,
      "metadata": {},
      "outputs": [
        {
          "name": "stdout",
          "output_type": "stream",
          "text": [
            "Rankings out of 254 countries:\n"
          ]
        },
        {
          "data": {
            "application/vnd.microsoft.datawrangler.viewer.v0+json": {
              "columns": [
                {
                  "name": "index",
                  "rawType": "int64",
                  "type": "integer"
                },
                {
                  "name": "Country",
                  "rawType": "object",
                  "type": "string"
                },
                {
                  "name": "Mean",
                  "rawType": "float64",
                  "type": "float"
                },
                {
                  "name": "Rank",
                  "rawType": "int64",
                  "type": "integer"
                }
              ],
              "ref": "cdf3e500-827c-40df-a974-f580b3f63ee4",
              "rows": [
                [
                  "5",
                  "France",
                  "1.49",
                  "6"
                ],
                [
                  "19",
                  "Belgium",
                  "0.76",
                  "20"
                ],
                [
                  "22",
                  "Netherlands",
                  "0.73",
                  "23"
                ],
                [
                  "24",
                  "Luxembourg",
                  "0.7",
                  "25"
                ],
                [
                  "38",
                  "Ireland",
                  "0.62",
                  "39"
                ],
                [
                  "47",
                  "United Kingdom",
                  "0.57",
                  "48"
                ],
                [
                  "138",
                  "Monaco",
                  "0.24",
                  "139"
                ]
              ],
              "shape": {
                "columns": 3,
                "rows": 7
              }
            },
            "text/html": [
              "<div>\n",
              "<style scoped>\n",
              "    .dataframe tbody tr th:only-of-type {\n",
              "        vertical-align: middle;\n",
              "    }\n",
              "\n",
              "    .dataframe tbody tr th {\n",
              "        vertical-align: top;\n",
              "    }\n",
              "\n",
              "    .dataframe thead th {\n",
              "        text-align: right;\n",
              "    }\n",
              "</style>\n",
              "<table border=\"1\" class=\"dataframe\">\n",
              "  <thead>\n",
              "    <tr style=\"text-align: right;\">\n",
              "      <th></th>\n",
              "      <th>Country</th>\n",
              "      <th>Mean</th>\n",
              "      <th>Rank</th>\n",
              "    </tr>\n",
              "  </thead>\n",
              "  <tbody>\n",
              "    <tr>\n",
              "      <th>5</th>\n",
              "      <td>France</td>\n",
              "      <td>1.49</td>\n",
              "      <td>6</td>\n",
              "    </tr>\n",
              "    <tr>\n",
              "      <th>19</th>\n",
              "      <td>Belgium</td>\n",
              "      <td>0.76</td>\n",
              "      <td>20</td>\n",
              "    </tr>\n",
              "    <tr>\n",
              "      <th>22</th>\n",
              "      <td>Netherlands</td>\n",
              "      <td>0.73</td>\n",
              "      <td>23</td>\n",
              "    </tr>\n",
              "    <tr>\n",
              "      <th>24</th>\n",
              "      <td>Luxembourg</td>\n",
              "      <td>0.70</td>\n",
              "      <td>25</td>\n",
              "    </tr>\n",
              "    <tr>\n",
              "      <th>38</th>\n",
              "      <td>Ireland</td>\n",
              "      <td>0.62</td>\n",
              "      <td>39</td>\n",
              "    </tr>\n",
              "    <tr>\n",
              "      <th>47</th>\n",
              "      <td>United Kingdom</td>\n",
              "      <td>0.57</td>\n",
              "      <td>48</td>\n",
              "    </tr>\n",
              "    <tr>\n",
              "      <th>138</th>\n",
              "      <td>Monaco</td>\n",
              "      <td>0.24</td>\n",
              "      <td>139</td>\n",
              "    </tr>\n",
              "  </tbody>\n",
              "</table>\n",
              "</div>"
            ],
            "text/plain": [
              "            Country  Mean  Rank\n",
              "5            France  1.49     6\n",
              "19          Belgium  0.76    20\n",
              "22      Netherlands  0.73    23\n",
              "24       Luxembourg  0.70    25\n",
              "38          Ireland  0.62    39\n",
              "47   United Kingdom  0.57    48\n",
              "138          Monaco  0.24   139"
            ]
          },
          "metadata": {},
          "output_type": "display_data"
        }
      ],
      "source": [
        "# Create a list of countries to check\n",
        "countries_to_check = ['Belgium', 'France', 'Ireland', 'Luxembourg', 'Monaco', 'Netherlands', 'United Kingdom']\n",
        "\n",
        "# Sort presence_df by Mean in descending order and create a rank\n",
        "ranked_df = presence_df.sort_values('Mean', ascending=False).reset_index()\n",
        "ranked_df['Rank'] = ranked_df.index + 1\n",
        "\n",
        "# Filter for the specified countries\n",
        "result = ranked_df[ranked_df['index'].isin(countries_to_check)][['index', 'Mean', 'Rank']]\n",
        "result = result.rename(columns={'index': 'Country'}).sort_values('Rank')\n",
        "\n",
        "# Display results\n",
        "print(\"Rankings out of\", len(presence_df), \"countries:\")\n",
        "display(result)"
      ]
    },
    {
      "cell_type": "code",
      "execution_count": 9,
      "metadata": {},
      "outputs": [
        {
          "name": "stdout",
          "output_type": "stream",
          "text": [
            "## Comprehensive_Global_COVID-19_Dataset Summary Statistics and Missing Values\n",
            "            S. No. Country Name         Cases        Deaths     Recovered\n",
            "count   230.000000          230  2.300000e+02  2.300000e+02  2.300000e+02\n",
            "unique         NaN          230           NaN           NaN           NaN\n",
            "top            NaN         Peru           NaN           NaN           NaN\n",
            "freq           NaN            1           NaN           NaN           NaN\n",
            "mean    115.495652          NaN  4.234399e+06  3.626242e+04  4.198137e+06\n",
            "std      66.533621          NaN  1.663905e+07  1.348604e+05  1.652371e+07\n",
            "min       1.000000          NaN  1.403000e+03  1.000000e+00  1.395000e+03\n",
            "25%      58.250000          NaN  3.055700e+04  1.902500e+02  3.024025e+04\n",
            "50%     115.500000          NaN  2.246960e+05  2.147500e+03  2.227915e+05\n",
            "75%     172.750000          NaN  1.363680e+06  1.636725e+04  1.353812e+06\n",
            "max     230.000000          NaN  1.856361e+08  1.261370e+06  1.843747e+08\n",
            "\n",
            "Missing Values:\n",
            "\n",
            "S. No.          8\n",
            "Country Name    8\n",
            "Cases           8\n",
            "Deaths          8\n",
            "Recovered       8\n",
            "dtype: int64\n",
            "\n",
            "---\n",
            "\n",
            "## Covid19-TestingRecord Summary Statistics and Missing Values\n",
            "                        Entity ISO code        Date  \\\n",
            "count                    74048    74048       74048   \n",
            "unique                     142      139         710   \n",
            "top     Mexico - people tested      ITA  2021-05-26   \n",
            "freq                       708     1255         125   \n",
            "mean                       NaN      NaN         NaN   \n",
            "std                        NaN      NaN         NaN   \n",
            "min                        NaN      NaN         NaN   \n",
            "25%                        NaN      NaN         NaN   \n",
            "50%                        NaN      NaN         NaN   \n",
            "75%                        NaN      NaN         NaN   \n",
            "max                        NaN      NaN         NaN   \n",
            "\n",
            "                                               Source URL        Source label  \\\n",
            "count                                               62975               63177   \n",
            "unique                                              18088                 117   \n",
            "top     https://github.com/pcm-dpc/COVID-19/tree/maste...  Ministry of Health   \n",
            "freq                                                 1179                8789   \n",
            "mean                                                  NaN                 NaN   \n",
            "std                                                   NaN                 NaN   \n",
            "min                                                   NaN                 NaN   \n",
            "25%                                                   NaN                 NaN   \n",
            "50%                                                   NaN                 NaN   \n",
            "75%                                                   NaN                 NaN   \n",
            "max                                                   NaN                 NaN   \n",
            "\n",
            "                                                    Notes  \\\n",
            "count                                                8341   \n",
            "unique                                                271   \n",
            "top     Made available by the Department of Civil Prot...   \n",
            "freq                                                 1178   \n",
            "mean                                                  NaN   \n",
            "std                                                   NaN   \n",
            "min                                                   NaN   \n",
            "25%                                                   NaN   \n",
            "50%                                                   NaN   \n",
            "75%                                                   NaN   \n",
            "max                                                   NaN   \n",
            "\n",
            "        Daily change in cumulative total  Cumulative total  \\\n",
            "count                       5.995300e+04      6.010200e+04   \n",
            "unique                               NaN               NaN   \n",
            "top                                  NaN               NaN   \n",
            "freq                                 NaN               NaN   \n",
            "mean                        5.893593e+04      1.308818e+07   \n",
            "std                         1.963171e+05      5.248456e+07   \n",
            "min                         1.000000e+00      0.000000e+00   \n",
            "25%                         2.328000e+03      2.969995e+05   \n",
            "50%                         8.836000e+03      1.521791e+06   \n",
            "75%                         3.445500e+04      6.496432e+06   \n",
            "max                         3.740296e+06      6.733036e+08   \n",
            "\n",
            "        Cumulative total per thousand  \\\n",
            "count                    60102.000000   \n",
            "unique                            NaN   \n",
            "top                               NaN   \n",
            "freq                              NaN   \n",
            "mean                       548.296981   \n",
            "std                       1333.148539   \n",
            "min                          0.000000   \n",
            "25%                         26.646750   \n",
            "50%                        132.591000   \n",
            "75%                        508.900500   \n",
            "max                      19398.999000   \n",
            "\n",
            "        Daily change in cumulative total per thousand  \\\n",
            "count                                    59953.000000   \n",
            "unique                                            NaN   \n",
            "top                                               NaN   \n",
            "freq                                              NaN   \n",
            "mean                                         2.610705   \n",
            "std                                          7.146212   \n",
            "min                                          0.000000   \n",
            "25%                                          0.216000   \n",
            "50%                                          0.807000   \n",
            "75%                                          2.390000   \n",
            "max                                        534.013000   \n",
            "\n",
            "        7-day smoothed daily change  7-day smoothed daily change per thousand  \\\n",
            "count                  7.193800e+04                              71938.000000   \n",
            "unique                          NaN                                       NaN   \n",
            "top                             NaN                                       NaN   \n",
            "freq                            NaN                                       NaN   \n",
            "mean                   5.532070e+04                                  2.495215   \n",
            "std                    1.759742e+05                                  5.935559   \n",
            "min                    0.000000e+00                                  0.000000   \n",
            "25%                    2.405000e+03                                  0.236000   \n",
            "50%                    9.135000e+03                                  0.872000   \n",
            "75%                    3.635900e+04                                  2.473000   \n",
            "max                    3.080396e+06                                 93.164000   \n",
            "\n",
            "        Short-term positive rate  Short-term tests per case country  \n",
            "count               67832.000000               67171.000000   74048  \n",
            "unique                       NaN                        NaN     139  \n",
            "top                          NaN                        NaN   Italy  \n",
            "freq                         NaN                        NaN    1255  \n",
            "mean                    0.085763                 157.034699     NaN  \n",
            "std                     0.095317                 821.044303     NaN  \n",
            "min                     0.000000                   1.000000     NaN  \n",
            "25%                     0.016300                   8.000000     NaN  \n",
            "50%                     0.050000                  19.600000     NaN  \n",
            "75%                     0.123400                  58.500000     NaN  \n",
            "max                     0.970400               50000.000000     NaN  \n",
            "\n",
            "Missing Values:\n",
            "\n",
            "Entity                                               0\n",
            "ISO code                                             0\n",
            "Date                                                 0\n",
            "Source URL                                       11073\n",
            "Source label                                     10871\n",
            "Notes                                            65707\n",
            "Daily change in cumulative total                 14095\n",
            "Cumulative total                                 13946\n",
            "Cumulative total per thousand                    13946\n",
            "Daily change in cumulative total per thousand    14095\n",
            "7-day smoothed daily change                       2110\n",
            "7-day smoothed daily change per thousand          2110\n",
            "Short-term positive rate                          6216\n",
            "Short-term tests per case                         6877\n",
            "country                                              0\n",
            "dtype: int64\n",
            "\n",
            "---\n",
            "\n",
            "## Covid19-VariantsFound Summary Statistics and Missing Values\n",
            "       location        date variant  num_sequences  perc_sequences  \\\n",
            "count    100416      100416  100416  100416.000000   100416.000000   \n",
            "unique      121          45      24            NaN             NaN   \n",
            "top     Belgium  2021-02-08   Alpha            NaN             NaN   \n",
            "freq       1080        2688    4184            NaN             NaN   \n",
            "mean        NaN         NaN     NaN      72.171676        6.154355   \n",
            "std         NaN         NaN     NaN    1669.262169       21.898989   \n",
            "min         NaN         NaN     NaN       0.000000       -0.010000   \n",
            "25%         NaN         NaN     NaN       0.000000        0.000000   \n",
            "50%         NaN         NaN     NaN       0.000000        0.000000   \n",
            "75%         NaN         NaN     NaN       0.000000        0.000000   \n",
            "max         NaN         NaN     NaN  142280.000000      100.000000   \n",
            "\n",
            "        num_sequences_total  \n",
            "count         100416.000000  \n",
            "unique                  NaN  \n",
            "top                     NaN  \n",
            "freq                    NaN  \n",
            "mean            1509.582457  \n",
            "std             8445.291772  \n",
            "min                1.000000  \n",
            "25%               12.000000  \n",
            "50%               59.000000  \n",
            "75%              394.000000  \n",
            "max           146170.000000  \n",
            "\n",
            "Missing Values:\n",
            "\n",
            "location               0\n",
            "date                   0\n",
            "variant                0\n",
            "num_sequences          0\n",
            "perc_sequences         0\n",
            "num_sequences_total    0\n",
            "dtype: int64\n",
            "\n",
            "---\n",
            "\n",
            "## Vaccinations_ByCountry_ByManufacturer Summary Statistics and Missing Values\n",
            "              location        date          vaccine  total_vaccinations\n",
            "count            35623       35623            35623        3.562300e+04\n",
            "unique              43         473               10                 NaN\n",
            "top     European Union  2021-07-23  Pfizer/BioNTech                 NaN\n",
            "freq              4122         169             8888                 NaN\n",
            "mean               NaN         NaN              NaN        1.508357e+07\n",
            "std                NaN         NaN              NaN        5.181768e+07\n",
            "min                NaN         NaN              NaN        0.000000e+00\n",
            "25%                NaN         NaN              NaN        9.777600e+04\n",
            "50%                NaN         NaN              NaN        1.305506e+06\n",
            "75%                NaN         NaN              NaN        7.932423e+06\n",
            "max                NaN         NaN              NaN        6.005200e+08\n",
            "\n",
            "Missing Values:\n",
            "\n",
            "location              0\n",
            "date                  0\n",
            "vaccine               0\n",
            "total_vaccinations    0\n",
            "dtype: int64\n",
            "\n",
            "---\n",
            "\n",
            "## Vaccinations_ByCountry Summary Statistics and Missing Values\n",
            "       country iso_code        date  total_vaccinations  people_vaccinated  \\\n",
            "count    86512    86512       86512        4.360700e+04       4.129400e+04   \n",
            "unique     223      223         483                 NaN                NaN   \n",
            "top     Norway      NOR  2021-08-22                 NaN                NaN   \n",
            "freq       482      482         220                 NaN                NaN   \n",
            "mean       NaN      NaN         NaN        4.592964e+07       1.770508e+07   \n",
            "std        NaN      NaN         NaN        2.246004e+08       7.078731e+07   \n",
            "min        NaN      NaN         NaN        0.000000e+00       0.000000e+00   \n",
            "25%        NaN      NaN         NaN        5.264100e+05       3.494642e+05   \n",
            "50%        NaN      NaN         NaN        3.590096e+06       2.187310e+06   \n",
            "75%        NaN      NaN         NaN        1.701230e+07       9.152520e+06   \n",
            "max        NaN      NaN         NaN        3.263129e+09       1.275541e+09   \n",
            "\n",
            "        people_fully_vaccinated  daily_vaccinations_raw  daily_vaccinations  \\\n",
            "count              3.880200e+04            3.536200e+04        8.621300e+04   \n",
            "unique                      NaN                     NaN                 NaN   \n",
            "top                         NaN                     NaN                 NaN   \n",
            "freq                        NaN                     NaN                 NaN   \n",
            "mean               1.413830e+07            2.705996e+05        1.313055e+05   \n",
            "std                5.713920e+07            1.212427e+06        7.682388e+05   \n",
            "min                1.000000e+00            0.000000e+00        0.000000e+00   \n",
            "25%                2.439622e+05            4.668000e+03        9.000000e+02   \n",
            "50%                1.722140e+06            2.530900e+04        7.343000e+03   \n",
            "75%                7.559870e+06            1.234925e+05        4.409800e+04   \n",
            "max                1.240777e+09            2.474100e+07        2.242429e+07   \n",
            "\n",
            "        total_vaccinations_per_hundred  people_vaccinated_per_hundred  \\\n",
            "count                     43607.000000                   41294.000000   \n",
            "unique                             NaN                            NaN   \n",
            "top                                NaN                            NaN   \n",
            "freq                               NaN                            NaN   \n",
            "mean                         80.188543                      40.927317   \n",
            "std                          67.913577                      29.290759   \n",
            "min                           0.000000                       0.000000   \n",
            "25%                          16.050000                      11.370000   \n",
            "50%                          67.520000                      41.435000   \n",
            "75%                         132.735000                      67.910000   \n",
            "max                         345.370000                     124.760000   \n",
            "\n",
            "        people_fully_vaccinated_per_hundred  daily_vaccinations_per_million  \\\n",
            "count                          38802.000000                    86213.000000   \n",
            "unique                                  NaN                             NaN   \n",
            "top                                     NaN                             NaN   \n",
            "freq                                    NaN                             NaN   \n",
            "mean                              35.523243                     3257.049157   \n",
            "std                               28.376252                     3934.312440   \n",
            "min                                0.000000                        0.000000   \n",
            "25%                                7.020000                      636.000000   \n",
            "50%                               31.750000                     2050.000000   \n",
            "75%                               62.080000                     4682.000000   \n",
            "max                              122.370000                   117497.000000   \n",
            "\n",
            "                                                 vaccines  \\\n",
            "count                                               86512   \n",
            "unique                                                 84   \n",
            "top     Johnson&Johnson, Moderna, Oxford/AstraZeneca, ...   \n",
            "freq                                                 7608   \n",
            "mean                                                  NaN   \n",
            "std                                                   NaN   \n",
            "min                                                   NaN   \n",
            "25%                                                   NaN   \n",
            "50%                                                   NaN   \n",
            "75%                                                   NaN   \n",
            "max                                                   NaN   \n",
            "\n",
            "                      source_name            source_website  \n",
            "count                       86512                     86512  \n",
            "unique                         81                       119  \n",
            "top     World Health Organization  https://covid19.who.int/  \n",
            "freq                        26822                     25951  \n",
            "mean                          NaN                       NaN  \n",
            "std                           NaN                       NaN  \n",
            "min                           NaN                       NaN  \n",
            "25%                           NaN                       NaN  \n",
            "50%                           NaN                       NaN  \n",
            "75%                           NaN                       NaN  \n",
            "max                           NaN                       NaN  \n",
            "\n",
            "Missing Values:\n",
            "\n",
            "country                                    0\n",
            "iso_code                                   0\n",
            "date                                       0\n",
            "total_vaccinations                     42905\n",
            "people_vaccinated                      45218\n",
            "people_fully_vaccinated                47710\n",
            "daily_vaccinations_raw                 51150\n",
            "daily_vaccinations                       299\n",
            "total_vaccinations_per_hundred         42905\n",
            "people_vaccinated_per_hundred          45218\n",
            "people_fully_vaccinated_per_hundred    47710\n",
            "daily_vaccinations_per_million           299\n",
            "vaccines                                   0\n",
            "source_name                                0\n",
            "source_website                             0\n",
            "dtype: int64\n",
            "\n",
            "---\n",
            "\n"
          ]
        }
      ],
      "source": [
        "# Summary statistics and missing values analysis\n",
        "for name, df in datasets.items():\n",
        "    print(f'## {name} Summary Statistics and Missing Values')\n",
        "    print(df.describe(include='all'))\n",
        "    print('\\nMissing Values:\\n')\n",
        "    print(df.isnull().sum())\n",
        "    print('\\n---\\n')"
      ]
    }
  ],
  "metadata": {
    "kernelspec": {
      "display_name": ".venv",
      "language": "python",
      "name": "python3"
    },
    "language_info": {
      "codemirror_mode": {
        "name": "ipython",
        "version": 3
      },
      "file_extension": ".py",
      "mimetype": "text/x-python",
      "name": "python",
      "nbconvert_exporter": "python",
      "pygments_lexer": "ipython3",
      "version": "3.13.2"
    }
  },
  "nbformat": 4,
  "nbformat_minor": 2
}
